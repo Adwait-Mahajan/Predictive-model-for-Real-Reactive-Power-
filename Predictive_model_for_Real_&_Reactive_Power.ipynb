{
  "nbformat": 4,
  "nbformat_minor": 0,
  "metadata": {
    "colab": {
      "provenance": [],
      "gpuType": "T4"
    },
    "kernelspec": {
      "name": "python3",
      "display_name": "Python 3"
    },
    "language_info": {
      "name": "python"
    },
    "accelerator": "GPU",
    "gpuClass": "standard"
  },
  "cells": [
    {
      "cell_type": "code",
      "source": [
        "from google.colab import drive\n",
        "drive.mount('/content/drive')"
      ],
      "metadata": {
        "colab": {
          "base_uri": "https://localhost:8080/"
        },
        "id": "C0D7t7aPSlt-",
        "outputId": "dbb402c4-d855-4b6c-cdd7-ed7d8f7d2547"
      },
      "execution_count": null,
      "outputs": [
        {
          "output_type": "stream",
          "name": "stdout",
          "text": [
            "Drive already mounted at /content/drive; to attempt to forcibly remount, call drive.mount(\"/content/drive\", force_remount=True).\n"
          ]
        }
      ]
    },
    {
      "cell_type": "code",
      "source": [
        "import numpy as np\n",
        "import pandas as pd\n",
        "import seaborn as sns\n",
        "import matplotlib.pyplot as plt\n",
        "%matplotlib inline"
      ],
      "metadata": {
        "id": "SgYhFQ9oSm-s"
      },
      "execution_count": null,
      "outputs": []
    },
    {
      "cell_type": "code",
      "source": [
        "df1 = pd.read_csv(\"/content/drive/MyDrive/SJT LOAD/SJT2-04.csv\")"
      ],
      "metadata": {
        "id": "eJQ7JVe4Sz7X"
      },
      "execution_count": null,
      "outputs": []
    },
    {
      "cell_type": "code",
      "source": [
        "df2 = pd.read_csv(\"/content/drive/MyDrive/SJT LOAD/SJT2.csv\")"
      ],
      "metadata": {
        "id": "mLd65exYS6tC"
      },
      "execution_count": null,
      "outputs": []
    },
    {
      "cell_type": "code",
      "source": [
        "df1.head()"
      ],
      "metadata": {
        "colab": {
          "base_uri": "https://localhost:8080/",
          "height": 402
        },
        "id": "e7dyBzWJS9lM",
        "outputId": "eedff882-3e2d-4981-f903-68b870ea1b3f"
      },
      "execution_count": null,
      "outputs": [
        {
          "output_type": "execute_result",
          "data": {
            "text/plain": [
              "           Datetime  RealEnergyWH  ApparentEnergyVAH  ReactiveEnergyVARHP  \\\n",
              "0  21-04-2023 12:52        963668             969454                27315   \n",
              "1  21-04-2023 12:59        963710             969496                27315   \n",
              "2  21-04-2023 13:09        963768             969554                27317   \n",
              "3  21-04-2023 13:12        963786             969572                27318   \n",
              "4  21-04-2023 13:13        963792             969578                27318   \n",
              "\n",
              "   ReactiveEnergyVARHN  LineVoltageVRY  LineVoltageVYB  LineVoltageVBR  \\\n",
              "0                10322          416.77          417.37          418.30   \n",
              "1                10322          419.13          417.86          419.36   \n",
              "2                10323          415.64          414.27          416.03   \n",
              "3                10323          415.64          413.81          415.87   \n",
              "4                10324          415.67          413.73          415.66   \n",
              "\n",
              "   LineCurrentIR  LineCurrentIY  ...  Frequency  RealPowerR  RealPowerY  \\\n",
              "0         493.08         493.10  ...       49.9   117869.63   117736.88   \n",
              "1         488.95         504.48  ...       49.9   117927.99   120899.63   \n",
              "2         422.38         486.38  ...       50.0   100594.30   115218.39   \n",
              "3         457.37         526.51  ...       50.0   109418.73   124320.09   \n",
              "4         476.36         594.47  ...       49.9   113935.99   140918.69   \n",
              "\n",
              "   RealPowerB  ReactivePowerR  ReactivePowerY  ReactivePowerB  ApparentPowerR  \\\n",
              "0   124223.56       -12163.27         5201.47         5832.24       118301.52   \n",
              "1   124059.62            0.00         4522.06         7588.79       117904.65   \n",
              "2   107126.50        -9140.09       -12405.52         3162.29       100851.10   \n",
              "3   123099.37            0.00       -15064.57         5832.24       109383.71   \n",
              "4   131975.78            0.00         4100.36         6406.04       113900.98   \n",
              "\n",
              "   ApparentPowerY  ApparentPowerB  \n",
              "0       117842.31       124375.80  \n",
              "1       120969.92       124328.95  \n",
              "2       115675.23       107173.34  \n",
              "3       124987.79       123251.60  \n",
              "4       140942.12       132151.44  \n",
              "\n",
              "[5 rows x 28 columns]"
            ],
            "text/html": [
              "\n",
              "  <div id=\"df-4cfd7ac6-d5b6-49a4-8a4b-d5ab68dc151b\">\n",
              "    <div class=\"colab-df-container\">\n",
              "      <div>\n",
              "<style scoped>\n",
              "    .dataframe tbody tr th:only-of-type {\n",
              "        vertical-align: middle;\n",
              "    }\n",
              "\n",
              "    .dataframe tbody tr th {\n",
              "        vertical-align: top;\n",
              "    }\n",
              "\n",
              "    .dataframe thead th {\n",
              "        text-align: right;\n",
              "    }\n",
              "</style>\n",
              "<table border=\"1\" class=\"dataframe\">\n",
              "  <thead>\n",
              "    <tr style=\"text-align: right;\">\n",
              "      <th></th>\n",
              "      <th>Datetime</th>\n",
              "      <th>RealEnergyWH</th>\n",
              "      <th>ApparentEnergyVAH</th>\n",
              "      <th>ReactiveEnergyVARHP</th>\n",
              "      <th>ReactiveEnergyVARHN</th>\n",
              "      <th>LineVoltageVRY</th>\n",
              "      <th>LineVoltageVYB</th>\n",
              "      <th>LineVoltageVBR</th>\n",
              "      <th>LineCurrentIR</th>\n",
              "      <th>LineCurrentIY</th>\n",
              "      <th>...</th>\n",
              "      <th>Frequency</th>\n",
              "      <th>RealPowerR</th>\n",
              "      <th>RealPowerY</th>\n",
              "      <th>RealPowerB</th>\n",
              "      <th>ReactivePowerR</th>\n",
              "      <th>ReactivePowerY</th>\n",
              "      <th>ReactivePowerB</th>\n",
              "      <th>ApparentPowerR</th>\n",
              "      <th>ApparentPowerY</th>\n",
              "      <th>ApparentPowerB</th>\n",
              "    </tr>\n",
              "  </thead>\n",
              "  <tbody>\n",
              "    <tr>\n",
              "      <th>0</th>\n",
              "      <td>21-04-2023 12:52</td>\n",
              "      <td>963668</td>\n",
              "      <td>969454</td>\n",
              "      <td>27315</td>\n",
              "      <td>10322</td>\n",
              "      <td>416.77</td>\n",
              "      <td>417.37</td>\n",
              "      <td>418.30</td>\n",
              "      <td>493.08</td>\n",
              "      <td>493.10</td>\n",
              "      <td>...</td>\n",
              "      <td>49.9</td>\n",
              "      <td>117869.63</td>\n",
              "      <td>117736.88</td>\n",
              "      <td>124223.56</td>\n",
              "      <td>-12163.27</td>\n",
              "      <td>5201.47</td>\n",
              "      <td>5832.24</td>\n",
              "      <td>118301.52</td>\n",
              "      <td>117842.31</td>\n",
              "      <td>124375.80</td>\n",
              "    </tr>\n",
              "    <tr>\n",
              "      <th>1</th>\n",
              "      <td>21-04-2023 12:59</td>\n",
              "      <td>963710</td>\n",
              "      <td>969496</td>\n",
              "      <td>27315</td>\n",
              "      <td>10322</td>\n",
              "      <td>419.13</td>\n",
              "      <td>417.86</td>\n",
              "      <td>419.36</td>\n",
              "      <td>488.95</td>\n",
              "      <td>504.48</td>\n",
              "      <td>...</td>\n",
              "      <td>49.9</td>\n",
              "      <td>117927.99</td>\n",
              "      <td>120899.63</td>\n",
              "      <td>124059.62</td>\n",
              "      <td>0.00</td>\n",
              "      <td>4522.06</td>\n",
              "      <td>7588.79</td>\n",
              "      <td>117904.65</td>\n",
              "      <td>120969.92</td>\n",
              "      <td>124328.95</td>\n",
              "    </tr>\n",
              "    <tr>\n",
              "      <th>2</th>\n",
              "      <td>21-04-2023 13:09</td>\n",
              "      <td>963768</td>\n",
              "      <td>969554</td>\n",
              "      <td>27317</td>\n",
              "      <td>10323</td>\n",
              "      <td>415.64</td>\n",
              "      <td>414.27</td>\n",
              "      <td>416.03</td>\n",
              "      <td>422.38</td>\n",
              "      <td>486.38</td>\n",
              "      <td>...</td>\n",
              "      <td>50.0</td>\n",
              "      <td>100594.30</td>\n",
              "      <td>115218.39</td>\n",
              "      <td>107126.50</td>\n",
              "      <td>-9140.09</td>\n",
              "      <td>-12405.52</td>\n",
              "      <td>3162.29</td>\n",
              "      <td>100851.10</td>\n",
              "      <td>115675.23</td>\n",
              "      <td>107173.34</td>\n",
              "    </tr>\n",
              "    <tr>\n",
              "      <th>3</th>\n",
              "      <td>21-04-2023 13:12</td>\n",
              "      <td>963786</td>\n",
              "      <td>969572</td>\n",
              "      <td>27318</td>\n",
              "      <td>10323</td>\n",
              "      <td>415.64</td>\n",
              "      <td>413.81</td>\n",
              "      <td>415.87</td>\n",
              "      <td>457.37</td>\n",
              "      <td>526.51</td>\n",
              "      <td>...</td>\n",
              "      <td>50.0</td>\n",
              "      <td>109418.73</td>\n",
              "      <td>124320.09</td>\n",
              "      <td>123099.37</td>\n",
              "      <td>0.00</td>\n",
              "      <td>-15064.57</td>\n",
              "      <td>5832.24</td>\n",
              "      <td>109383.71</td>\n",
              "      <td>124987.79</td>\n",
              "      <td>123251.60</td>\n",
              "    </tr>\n",
              "    <tr>\n",
              "      <th>4</th>\n",
              "      <td>21-04-2023 13:13</td>\n",
              "      <td>963792</td>\n",
              "      <td>969578</td>\n",
              "      <td>27318</td>\n",
              "      <td>10324</td>\n",
              "      <td>415.67</td>\n",
              "      <td>413.73</td>\n",
              "      <td>415.66</td>\n",
              "      <td>476.36</td>\n",
              "      <td>594.47</td>\n",
              "      <td>...</td>\n",
              "      <td>49.9</td>\n",
              "      <td>113935.99</td>\n",
              "      <td>140918.69</td>\n",
              "      <td>131975.78</td>\n",
              "      <td>0.00</td>\n",
              "      <td>4100.36</td>\n",
              "      <td>6406.04</td>\n",
              "      <td>113900.98</td>\n",
              "      <td>140942.12</td>\n",
              "      <td>132151.44</td>\n",
              "    </tr>\n",
              "  </tbody>\n",
              "</table>\n",
              "<p>5 rows × 28 columns</p>\n",
              "</div>\n",
              "      <button class=\"colab-df-convert\" onclick=\"convertToInteractive('df-4cfd7ac6-d5b6-49a4-8a4b-d5ab68dc151b')\"\n",
              "              title=\"Convert this dataframe to an interactive table.\"\n",
              "              style=\"display:none;\">\n",
              "        \n",
              "  <svg xmlns=\"http://www.w3.org/2000/svg\" height=\"24px\"viewBox=\"0 0 24 24\"\n",
              "       width=\"24px\">\n",
              "    <path d=\"M0 0h24v24H0V0z\" fill=\"none\"/>\n",
              "    <path d=\"M18.56 5.44l.94 2.06.94-2.06 2.06-.94-2.06-.94-.94-2.06-.94 2.06-2.06.94zm-11 1L8.5 8.5l.94-2.06 2.06-.94-2.06-.94L8.5 2.5l-.94 2.06-2.06.94zm10 10l.94 2.06.94-2.06 2.06-.94-2.06-.94-.94-2.06-.94 2.06-2.06.94z\"/><path d=\"M17.41 7.96l-1.37-1.37c-.4-.4-.92-.59-1.43-.59-.52 0-1.04.2-1.43.59L10.3 9.45l-7.72 7.72c-.78.78-.78 2.05 0 2.83L4 21.41c.39.39.9.59 1.41.59.51 0 1.02-.2 1.41-.59l7.78-7.78 2.81-2.81c.8-.78.8-2.07 0-2.86zM5.41 20L4 18.59l7.72-7.72 1.47 1.35L5.41 20z\"/>\n",
              "  </svg>\n",
              "      </button>\n",
              "      \n",
              "  <style>\n",
              "    .colab-df-container {\n",
              "      display:flex;\n",
              "      flex-wrap:wrap;\n",
              "      gap: 12px;\n",
              "    }\n",
              "\n",
              "    .colab-df-convert {\n",
              "      background-color: #E8F0FE;\n",
              "      border: none;\n",
              "      border-radius: 50%;\n",
              "      cursor: pointer;\n",
              "      display: none;\n",
              "      fill: #1967D2;\n",
              "      height: 32px;\n",
              "      padding: 0 0 0 0;\n",
              "      width: 32px;\n",
              "    }\n",
              "\n",
              "    .colab-df-convert:hover {\n",
              "      background-color: #E2EBFA;\n",
              "      box-shadow: 0px 1px 2px rgba(60, 64, 67, 0.3), 0px 1px 3px 1px rgba(60, 64, 67, 0.15);\n",
              "      fill: #174EA6;\n",
              "    }\n",
              "\n",
              "    [theme=dark] .colab-df-convert {\n",
              "      background-color: #3B4455;\n",
              "      fill: #D2E3FC;\n",
              "    }\n",
              "\n",
              "    [theme=dark] .colab-df-convert:hover {\n",
              "      background-color: #434B5C;\n",
              "      box-shadow: 0px 1px 3px 1px rgba(0, 0, 0, 0.15);\n",
              "      filter: drop-shadow(0px 1px 2px rgba(0, 0, 0, 0.3));\n",
              "      fill: #FFFFFF;\n",
              "    }\n",
              "  </style>\n",
              "\n",
              "      <script>\n",
              "        const buttonEl =\n",
              "          document.querySelector('#df-4cfd7ac6-d5b6-49a4-8a4b-d5ab68dc151b button.colab-df-convert');\n",
              "        buttonEl.style.display =\n",
              "          google.colab.kernel.accessAllowed ? 'block' : 'none';\n",
              "\n",
              "        async function convertToInteractive(key) {\n",
              "          const element = document.querySelector('#df-4cfd7ac6-d5b6-49a4-8a4b-d5ab68dc151b');\n",
              "          const dataTable =\n",
              "            await google.colab.kernel.invokeFunction('convertToInteractive',\n",
              "                                                     [key], {});\n",
              "          if (!dataTable) return;\n",
              "\n",
              "          const docLinkHtml = 'Like what you see? Visit the ' +\n",
              "            '<a target=\"_blank\" href=https://colab.research.google.com/notebooks/data_table.ipynb>data table notebook</a>'\n",
              "            + ' to learn more about interactive tables.';\n",
              "          element.innerHTML = '';\n",
              "          dataTable['output_type'] = 'display_data';\n",
              "          await google.colab.output.renderOutput(dataTable, element);\n",
              "          const docLink = document.createElement('div');\n",
              "          docLink.innerHTML = docLinkHtml;\n",
              "          element.appendChild(docLink);\n",
              "        }\n",
              "      </script>\n",
              "    </div>\n",
              "  </div>\n",
              "  "
            ]
          },
          "metadata": {},
          "execution_count": 5
        }
      ]
    },
    {
      "cell_type": "code",
      "source": [
        "df2.head()"
      ],
      "metadata": {
        "colab": {
          "base_uri": "https://localhost:8080/",
          "height": 402
        },
        "id": "IdKBzZiCS_xE",
        "outputId": "918e4713-4edc-4652-c2d8-a3b7fd8f6902"
      },
      "execution_count": null,
      "outputs": [
        {
          "output_type": "execute_result",
          "data": {
            "text/plain": [
              "   ID          Datetime  RealEnergyWH  ApparentEnergyVAH  ReactiveEnergyVARHP  \\\n",
              "0   1  04-01-2023 15:25        316462             320876                11245   \n",
              "1   2  04-01-2023 15:26        316469             320883                11246   \n",
              "2   3  04-01-2023 15:27        316476             320890                11246   \n",
              "3   4  04-01-2023 15:28        316483             320897                11246   \n",
              "4   5  04-01-2023 15:29        316490             320904                11246   \n",
              "\n",
              "   ReactiveEnergyVARHN  LineVoltageVRY  LineVoltageVYB  LineVoltageVBR  \\\n",
              "0                 3933          425.06          422.52          424.33   \n",
              "1                 3933          424.99          423.06          426.06   \n",
              "2                 3933          426.45          423.31          425.62   \n",
              "3                 3933          425.15          423.42          424.50   \n",
              "4                 3933          425.08          423.30          425.46   \n",
              "\n",
              "   LineCurrentIR  ...  Frequency  RealPowerR  RealPowerY  RealPowerB  \\\n",
              "0         535.40  ...       49.9   131036.23   130423.04   134821.39   \n",
              "1         582.88  ...       49.9   142673.75   147033.33   133697.20   \n",
              "2         569.36  ...       49.9   139650.56   149481.55   141027.88   \n",
              "3         565.23  ...       49.9   137946.38   141937.78   130113.85   \n",
              "4         571.12  ...       49.9   139277.05   141621.52   142620.48   \n",
              "\n",
              "   ReactivePowerR  ReactivePowerY  ReactivePowerB  ApparentPowerR  \\\n",
              "0        11042.71       -13366.06         3150.58       130966.21   \n",
              "1            0.00       -16587.38         4989.10       142603.70   \n",
              "2         3070.37       -18906.73         6160.13       139650.56   \n",
              "3            0.00         3116.40         4380.16       137899.69   \n",
              "4       -15501.61         5798.88         6722.22       139895.69   \n",
              "\n",
              "   ApparentPowerY  ApparentPowerB  \n",
              "0       130879.87       134844.83  \n",
              "1       147689.31       133790.89  \n",
              "2       150371.80       141180.11  \n",
              "3       141926.08       130184.12  \n",
              "4       141726.94       142796.14  \n",
              "\n",
              "[5 rows x 29 columns]"
            ],
            "text/html": [
              "\n",
              "  <div id=\"df-8088627a-09be-4b33-822f-73ba22b5bffe\">\n",
              "    <div class=\"colab-df-container\">\n",
              "      <div>\n",
              "<style scoped>\n",
              "    .dataframe tbody tr th:only-of-type {\n",
              "        vertical-align: middle;\n",
              "    }\n",
              "\n",
              "    .dataframe tbody tr th {\n",
              "        vertical-align: top;\n",
              "    }\n",
              "\n",
              "    .dataframe thead th {\n",
              "        text-align: right;\n",
              "    }\n",
              "</style>\n",
              "<table border=\"1\" class=\"dataframe\">\n",
              "  <thead>\n",
              "    <tr style=\"text-align: right;\">\n",
              "      <th></th>\n",
              "      <th>ID</th>\n",
              "      <th>Datetime</th>\n",
              "      <th>RealEnergyWH</th>\n",
              "      <th>ApparentEnergyVAH</th>\n",
              "      <th>ReactiveEnergyVARHP</th>\n",
              "      <th>ReactiveEnergyVARHN</th>\n",
              "      <th>LineVoltageVRY</th>\n",
              "      <th>LineVoltageVYB</th>\n",
              "      <th>LineVoltageVBR</th>\n",
              "      <th>LineCurrentIR</th>\n",
              "      <th>...</th>\n",
              "      <th>Frequency</th>\n",
              "      <th>RealPowerR</th>\n",
              "      <th>RealPowerY</th>\n",
              "      <th>RealPowerB</th>\n",
              "      <th>ReactivePowerR</th>\n",
              "      <th>ReactivePowerY</th>\n",
              "      <th>ReactivePowerB</th>\n",
              "      <th>ApparentPowerR</th>\n",
              "      <th>ApparentPowerY</th>\n",
              "      <th>ApparentPowerB</th>\n",
              "    </tr>\n",
              "  </thead>\n",
              "  <tbody>\n",
              "    <tr>\n",
              "      <th>0</th>\n",
              "      <td>1</td>\n",
              "      <td>04-01-2023 15:25</td>\n",
              "      <td>316462</td>\n",
              "      <td>320876</td>\n",
              "      <td>11245</td>\n",
              "      <td>3933</td>\n",
              "      <td>425.06</td>\n",
              "      <td>422.52</td>\n",
              "      <td>424.33</td>\n",
              "      <td>535.40</td>\n",
              "      <td>...</td>\n",
              "      <td>49.9</td>\n",
              "      <td>131036.23</td>\n",
              "      <td>130423.04</td>\n",
              "      <td>134821.39</td>\n",
              "      <td>11042.71</td>\n",
              "      <td>-13366.06</td>\n",
              "      <td>3150.58</td>\n",
              "      <td>130966.21</td>\n",
              "      <td>130879.87</td>\n",
              "      <td>134844.83</td>\n",
              "    </tr>\n",
              "    <tr>\n",
              "      <th>1</th>\n",
              "      <td>2</td>\n",
              "      <td>04-01-2023 15:26</td>\n",
              "      <td>316469</td>\n",
              "      <td>320883</td>\n",
              "      <td>11246</td>\n",
              "      <td>3933</td>\n",
              "      <td>424.99</td>\n",
              "      <td>423.06</td>\n",
              "      <td>426.06</td>\n",
              "      <td>582.88</td>\n",
              "      <td>...</td>\n",
              "      <td>49.9</td>\n",
              "      <td>142673.75</td>\n",
              "      <td>147033.33</td>\n",
              "      <td>133697.20</td>\n",
              "      <td>0.00</td>\n",
              "      <td>-16587.38</td>\n",
              "      <td>4989.10</td>\n",
              "      <td>142603.70</td>\n",
              "      <td>147689.31</td>\n",
              "      <td>133790.89</td>\n",
              "    </tr>\n",
              "    <tr>\n",
              "      <th>2</th>\n",
              "      <td>3</td>\n",
              "      <td>04-01-2023 15:27</td>\n",
              "      <td>316476</td>\n",
              "      <td>320890</td>\n",
              "      <td>11246</td>\n",
              "      <td>3933</td>\n",
              "      <td>426.45</td>\n",
              "      <td>423.31</td>\n",
              "      <td>425.62</td>\n",
              "      <td>569.36</td>\n",
              "      <td>...</td>\n",
              "      <td>49.9</td>\n",
              "      <td>139650.56</td>\n",
              "      <td>149481.55</td>\n",
              "      <td>141027.88</td>\n",
              "      <td>3070.37</td>\n",
              "      <td>-18906.73</td>\n",
              "      <td>6160.13</td>\n",
              "      <td>139650.56</td>\n",
              "      <td>150371.80</td>\n",
              "      <td>141180.11</td>\n",
              "    </tr>\n",
              "    <tr>\n",
              "      <th>3</th>\n",
              "      <td>4</td>\n",
              "      <td>04-01-2023 15:28</td>\n",
              "      <td>316483</td>\n",
              "      <td>320897</td>\n",
              "      <td>11246</td>\n",
              "      <td>3933</td>\n",
              "      <td>425.15</td>\n",
              "      <td>423.42</td>\n",
              "      <td>424.50</td>\n",
              "      <td>565.23</td>\n",
              "      <td>...</td>\n",
              "      <td>49.9</td>\n",
              "      <td>137946.38</td>\n",
              "      <td>141937.78</td>\n",
              "      <td>130113.85</td>\n",
              "      <td>0.00</td>\n",
              "      <td>3116.40</td>\n",
              "      <td>4380.16</td>\n",
              "      <td>137899.69</td>\n",
              "      <td>141926.08</td>\n",
              "      <td>130184.12</td>\n",
              "    </tr>\n",
              "    <tr>\n",
              "      <th>4</th>\n",
              "      <td>5</td>\n",
              "      <td>04-01-2023 15:29</td>\n",
              "      <td>316490</td>\n",
              "      <td>320904</td>\n",
              "      <td>11246</td>\n",
              "      <td>3933</td>\n",
              "      <td>425.08</td>\n",
              "      <td>423.30</td>\n",
              "      <td>425.46</td>\n",
              "      <td>571.12</td>\n",
              "      <td>...</td>\n",
              "      <td>49.9</td>\n",
              "      <td>139277.05</td>\n",
              "      <td>141621.52</td>\n",
              "      <td>142620.48</td>\n",
              "      <td>-15501.61</td>\n",
              "      <td>5798.88</td>\n",
              "      <td>6722.22</td>\n",
              "      <td>139895.69</td>\n",
              "      <td>141726.94</td>\n",
              "      <td>142796.14</td>\n",
              "    </tr>\n",
              "  </tbody>\n",
              "</table>\n",
              "<p>5 rows × 29 columns</p>\n",
              "</div>\n",
              "      <button class=\"colab-df-convert\" onclick=\"convertToInteractive('df-8088627a-09be-4b33-822f-73ba22b5bffe')\"\n",
              "              title=\"Convert this dataframe to an interactive table.\"\n",
              "              style=\"display:none;\">\n",
              "        \n",
              "  <svg xmlns=\"http://www.w3.org/2000/svg\" height=\"24px\"viewBox=\"0 0 24 24\"\n",
              "       width=\"24px\">\n",
              "    <path d=\"M0 0h24v24H0V0z\" fill=\"none\"/>\n",
              "    <path d=\"M18.56 5.44l.94 2.06.94-2.06 2.06-.94-2.06-.94-.94-2.06-.94 2.06-2.06.94zm-11 1L8.5 8.5l.94-2.06 2.06-.94-2.06-.94L8.5 2.5l-.94 2.06-2.06.94zm10 10l.94 2.06.94-2.06 2.06-.94-2.06-.94-.94-2.06-.94 2.06-2.06.94z\"/><path d=\"M17.41 7.96l-1.37-1.37c-.4-.4-.92-.59-1.43-.59-.52 0-1.04.2-1.43.59L10.3 9.45l-7.72 7.72c-.78.78-.78 2.05 0 2.83L4 21.41c.39.39.9.59 1.41.59.51 0 1.02-.2 1.41-.59l7.78-7.78 2.81-2.81c.8-.78.8-2.07 0-2.86zM5.41 20L4 18.59l7.72-7.72 1.47 1.35L5.41 20z\"/>\n",
              "  </svg>\n",
              "      </button>\n",
              "      \n",
              "  <style>\n",
              "    .colab-df-container {\n",
              "      display:flex;\n",
              "      flex-wrap:wrap;\n",
              "      gap: 12px;\n",
              "    }\n",
              "\n",
              "    .colab-df-convert {\n",
              "      background-color: #E8F0FE;\n",
              "      border: none;\n",
              "      border-radius: 50%;\n",
              "      cursor: pointer;\n",
              "      display: none;\n",
              "      fill: #1967D2;\n",
              "      height: 32px;\n",
              "      padding: 0 0 0 0;\n",
              "      width: 32px;\n",
              "    }\n",
              "\n",
              "    .colab-df-convert:hover {\n",
              "      background-color: #E2EBFA;\n",
              "      box-shadow: 0px 1px 2px rgba(60, 64, 67, 0.3), 0px 1px 3px 1px rgba(60, 64, 67, 0.15);\n",
              "      fill: #174EA6;\n",
              "    }\n",
              "\n",
              "    [theme=dark] .colab-df-convert {\n",
              "      background-color: #3B4455;\n",
              "      fill: #D2E3FC;\n",
              "    }\n",
              "\n",
              "    [theme=dark] .colab-df-convert:hover {\n",
              "      background-color: #434B5C;\n",
              "      box-shadow: 0px 1px 3px 1px rgba(0, 0, 0, 0.15);\n",
              "      filter: drop-shadow(0px 1px 2px rgba(0, 0, 0, 0.3));\n",
              "      fill: #FFFFFF;\n",
              "    }\n",
              "  </style>\n",
              "\n",
              "      <script>\n",
              "        const buttonEl =\n",
              "          document.querySelector('#df-8088627a-09be-4b33-822f-73ba22b5bffe button.colab-df-convert');\n",
              "        buttonEl.style.display =\n",
              "          google.colab.kernel.accessAllowed ? 'block' : 'none';\n",
              "\n",
              "        async function convertToInteractive(key) {\n",
              "          const element = document.querySelector('#df-8088627a-09be-4b33-822f-73ba22b5bffe');\n",
              "          const dataTable =\n",
              "            await google.colab.kernel.invokeFunction('convertToInteractive',\n",
              "                                                     [key], {});\n",
              "          if (!dataTable) return;\n",
              "\n",
              "          const docLinkHtml = 'Like what you see? Visit the ' +\n",
              "            '<a target=\"_blank\" href=https://colab.research.google.com/notebooks/data_table.ipynb>data table notebook</a>'\n",
              "            + ' to learn more about interactive tables.';\n",
              "          element.innerHTML = '';\n",
              "          dataTable['output_type'] = 'display_data';\n",
              "          await google.colab.output.renderOutput(dataTable, element);\n",
              "          const docLink = document.createElement('div');\n",
              "          docLink.innerHTML = docLinkHtml;\n",
              "          element.appendChild(docLink);\n",
              "        }\n",
              "      </script>\n",
              "    </div>\n",
              "  </div>\n",
              "  "
            ]
          },
          "metadata": {},
          "execution_count": 6
        }
      ]
    },
    {
      "cell_type": "code",
      "source": [
        "df2.drop(columns=['ID'],axis=1,inplace=True)"
      ],
      "metadata": {
        "id": "j-Nt3o_MTApH"
      },
      "execution_count": null,
      "outputs": []
    },
    {
      "cell_type": "code",
      "source": [
        "df2.head()"
      ],
      "metadata": {
        "colab": {
          "base_uri": "https://localhost:8080/",
          "height": 402
        },
        "id": "_tgoZsiJTEfP",
        "outputId": "29cbc6ea-a4ff-47bb-bf5f-c6837439dd0f"
      },
      "execution_count": null,
      "outputs": [
        {
          "output_type": "execute_result",
          "data": {
            "text/plain": [
              "           Datetime  RealEnergyWH  ApparentEnergyVAH  ReactiveEnergyVARHP  \\\n",
              "0  04-01-2023 15:25        316462             320876                11245   \n",
              "1  04-01-2023 15:26        316469             320883                11246   \n",
              "2  04-01-2023 15:27        316476             320890                11246   \n",
              "3  04-01-2023 15:28        316483             320897                11246   \n",
              "4  04-01-2023 15:29        316490             320904                11246   \n",
              "\n",
              "   ReactiveEnergyVARHN  LineVoltageVRY  LineVoltageVYB  LineVoltageVBR  \\\n",
              "0                 3933          425.06          422.52          424.33   \n",
              "1                 3933          424.99          423.06          426.06   \n",
              "2                 3933          426.45          423.31          425.62   \n",
              "3                 3933          425.15          423.42          424.50   \n",
              "4                 3933          425.08          423.30          425.46   \n",
              "\n",
              "   LineCurrentIR  LineCurrentIY  ...  Frequency  RealPowerR  RealPowerY  \\\n",
              "0         535.40         539.54  ...       49.9   131036.23   130423.04   \n",
              "1         582.88         609.06  ...       49.9   142673.75   147033.33   \n",
              "2         569.36         618.99  ...       49.9   139650.56   149481.55   \n",
              "3         565.23         583.61  ...       49.9   137946.38   141937.78   \n",
              "4         571.12         584.64  ...       49.9   139277.05   141621.52   \n",
              "\n",
              "   RealPowerB  ReactivePowerR  ReactivePowerY  ReactivePowerB  ApparentPowerR  \\\n",
              "0   134821.39        11042.71       -13366.06         3150.58       130966.21   \n",
              "1   133697.20            0.00       -16587.38         4989.10       142603.70   \n",
              "2   141027.88         3070.37       -18906.73         6160.13       139650.56   \n",
              "3   130113.85            0.00         3116.40         4380.16       137899.69   \n",
              "4   142620.48       -15501.61         5798.88         6722.22       139895.69   \n",
              "\n",
              "   ApparentPowerY  ApparentPowerB  \n",
              "0       130879.87       134844.83  \n",
              "1       147689.31       133790.89  \n",
              "2       150371.80       141180.11  \n",
              "3       141926.08       130184.12  \n",
              "4       141726.94       142796.14  \n",
              "\n",
              "[5 rows x 28 columns]"
            ],
            "text/html": [
              "\n",
              "  <div id=\"df-81fe31c1-564c-4690-881f-fbbad0de7800\">\n",
              "    <div class=\"colab-df-container\">\n",
              "      <div>\n",
              "<style scoped>\n",
              "    .dataframe tbody tr th:only-of-type {\n",
              "        vertical-align: middle;\n",
              "    }\n",
              "\n",
              "    .dataframe tbody tr th {\n",
              "        vertical-align: top;\n",
              "    }\n",
              "\n",
              "    .dataframe thead th {\n",
              "        text-align: right;\n",
              "    }\n",
              "</style>\n",
              "<table border=\"1\" class=\"dataframe\">\n",
              "  <thead>\n",
              "    <tr style=\"text-align: right;\">\n",
              "      <th></th>\n",
              "      <th>Datetime</th>\n",
              "      <th>RealEnergyWH</th>\n",
              "      <th>ApparentEnergyVAH</th>\n",
              "      <th>ReactiveEnergyVARHP</th>\n",
              "      <th>ReactiveEnergyVARHN</th>\n",
              "      <th>LineVoltageVRY</th>\n",
              "      <th>LineVoltageVYB</th>\n",
              "      <th>LineVoltageVBR</th>\n",
              "      <th>LineCurrentIR</th>\n",
              "      <th>LineCurrentIY</th>\n",
              "      <th>...</th>\n",
              "      <th>Frequency</th>\n",
              "      <th>RealPowerR</th>\n",
              "      <th>RealPowerY</th>\n",
              "      <th>RealPowerB</th>\n",
              "      <th>ReactivePowerR</th>\n",
              "      <th>ReactivePowerY</th>\n",
              "      <th>ReactivePowerB</th>\n",
              "      <th>ApparentPowerR</th>\n",
              "      <th>ApparentPowerY</th>\n",
              "      <th>ApparentPowerB</th>\n",
              "    </tr>\n",
              "  </thead>\n",
              "  <tbody>\n",
              "    <tr>\n",
              "      <th>0</th>\n",
              "      <td>04-01-2023 15:25</td>\n",
              "      <td>316462</td>\n",
              "      <td>320876</td>\n",
              "      <td>11245</td>\n",
              "      <td>3933</td>\n",
              "      <td>425.06</td>\n",
              "      <td>422.52</td>\n",
              "      <td>424.33</td>\n",
              "      <td>535.40</td>\n",
              "      <td>539.54</td>\n",
              "      <td>...</td>\n",
              "      <td>49.9</td>\n",
              "      <td>131036.23</td>\n",
              "      <td>130423.04</td>\n",
              "      <td>134821.39</td>\n",
              "      <td>11042.71</td>\n",
              "      <td>-13366.06</td>\n",
              "      <td>3150.58</td>\n",
              "      <td>130966.21</td>\n",
              "      <td>130879.87</td>\n",
              "      <td>134844.83</td>\n",
              "    </tr>\n",
              "    <tr>\n",
              "      <th>1</th>\n",
              "      <td>04-01-2023 15:26</td>\n",
              "      <td>316469</td>\n",
              "      <td>320883</td>\n",
              "      <td>11246</td>\n",
              "      <td>3933</td>\n",
              "      <td>424.99</td>\n",
              "      <td>423.06</td>\n",
              "      <td>426.06</td>\n",
              "      <td>582.88</td>\n",
              "      <td>609.06</td>\n",
              "      <td>...</td>\n",
              "      <td>49.9</td>\n",
              "      <td>142673.75</td>\n",
              "      <td>147033.33</td>\n",
              "      <td>133697.20</td>\n",
              "      <td>0.00</td>\n",
              "      <td>-16587.38</td>\n",
              "      <td>4989.10</td>\n",
              "      <td>142603.70</td>\n",
              "      <td>147689.31</td>\n",
              "      <td>133790.89</td>\n",
              "    </tr>\n",
              "    <tr>\n",
              "      <th>2</th>\n",
              "      <td>04-01-2023 15:27</td>\n",
              "      <td>316476</td>\n",
              "      <td>320890</td>\n",
              "      <td>11246</td>\n",
              "      <td>3933</td>\n",
              "      <td>426.45</td>\n",
              "      <td>423.31</td>\n",
              "      <td>425.62</td>\n",
              "      <td>569.36</td>\n",
              "      <td>618.99</td>\n",
              "      <td>...</td>\n",
              "      <td>49.9</td>\n",
              "      <td>139650.56</td>\n",
              "      <td>149481.55</td>\n",
              "      <td>141027.88</td>\n",
              "      <td>3070.37</td>\n",
              "      <td>-18906.73</td>\n",
              "      <td>6160.13</td>\n",
              "      <td>139650.56</td>\n",
              "      <td>150371.80</td>\n",
              "      <td>141180.11</td>\n",
              "    </tr>\n",
              "    <tr>\n",
              "      <th>3</th>\n",
              "      <td>04-01-2023 15:28</td>\n",
              "      <td>316483</td>\n",
              "      <td>320897</td>\n",
              "      <td>11246</td>\n",
              "      <td>3933</td>\n",
              "      <td>425.15</td>\n",
              "      <td>423.42</td>\n",
              "      <td>424.50</td>\n",
              "      <td>565.23</td>\n",
              "      <td>583.61</td>\n",
              "      <td>...</td>\n",
              "      <td>49.9</td>\n",
              "      <td>137946.38</td>\n",
              "      <td>141937.78</td>\n",
              "      <td>130113.85</td>\n",
              "      <td>0.00</td>\n",
              "      <td>3116.40</td>\n",
              "      <td>4380.16</td>\n",
              "      <td>137899.69</td>\n",
              "      <td>141926.08</td>\n",
              "      <td>130184.12</td>\n",
              "    </tr>\n",
              "    <tr>\n",
              "      <th>4</th>\n",
              "      <td>04-01-2023 15:29</td>\n",
              "      <td>316490</td>\n",
              "      <td>320904</td>\n",
              "      <td>11246</td>\n",
              "      <td>3933</td>\n",
              "      <td>425.08</td>\n",
              "      <td>423.30</td>\n",
              "      <td>425.46</td>\n",
              "      <td>571.12</td>\n",
              "      <td>584.64</td>\n",
              "      <td>...</td>\n",
              "      <td>49.9</td>\n",
              "      <td>139277.05</td>\n",
              "      <td>141621.52</td>\n",
              "      <td>142620.48</td>\n",
              "      <td>-15501.61</td>\n",
              "      <td>5798.88</td>\n",
              "      <td>6722.22</td>\n",
              "      <td>139895.69</td>\n",
              "      <td>141726.94</td>\n",
              "      <td>142796.14</td>\n",
              "    </tr>\n",
              "  </tbody>\n",
              "</table>\n",
              "<p>5 rows × 28 columns</p>\n",
              "</div>\n",
              "      <button class=\"colab-df-convert\" onclick=\"convertToInteractive('df-81fe31c1-564c-4690-881f-fbbad0de7800')\"\n",
              "              title=\"Convert this dataframe to an interactive table.\"\n",
              "              style=\"display:none;\">\n",
              "        \n",
              "  <svg xmlns=\"http://www.w3.org/2000/svg\" height=\"24px\"viewBox=\"0 0 24 24\"\n",
              "       width=\"24px\">\n",
              "    <path d=\"M0 0h24v24H0V0z\" fill=\"none\"/>\n",
              "    <path d=\"M18.56 5.44l.94 2.06.94-2.06 2.06-.94-2.06-.94-.94-2.06-.94 2.06-2.06.94zm-11 1L8.5 8.5l.94-2.06 2.06-.94-2.06-.94L8.5 2.5l-.94 2.06-2.06.94zm10 10l.94 2.06.94-2.06 2.06-.94-2.06-.94-.94-2.06-.94 2.06-2.06.94z\"/><path d=\"M17.41 7.96l-1.37-1.37c-.4-.4-.92-.59-1.43-.59-.52 0-1.04.2-1.43.59L10.3 9.45l-7.72 7.72c-.78.78-.78 2.05 0 2.83L4 21.41c.39.39.9.59 1.41.59.51 0 1.02-.2 1.41-.59l7.78-7.78 2.81-2.81c.8-.78.8-2.07 0-2.86zM5.41 20L4 18.59l7.72-7.72 1.47 1.35L5.41 20z\"/>\n",
              "  </svg>\n",
              "      </button>\n",
              "      \n",
              "  <style>\n",
              "    .colab-df-container {\n",
              "      display:flex;\n",
              "      flex-wrap:wrap;\n",
              "      gap: 12px;\n",
              "    }\n",
              "\n",
              "    .colab-df-convert {\n",
              "      background-color: #E8F0FE;\n",
              "      border: none;\n",
              "      border-radius: 50%;\n",
              "      cursor: pointer;\n",
              "      display: none;\n",
              "      fill: #1967D2;\n",
              "      height: 32px;\n",
              "      padding: 0 0 0 0;\n",
              "      width: 32px;\n",
              "    }\n",
              "\n",
              "    .colab-df-convert:hover {\n",
              "      background-color: #E2EBFA;\n",
              "      box-shadow: 0px 1px 2px rgba(60, 64, 67, 0.3), 0px 1px 3px 1px rgba(60, 64, 67, 0.15);\n",
              "      fill: #174EA6;\n",
              "    }\n",
              "\n",
              "    [theme=dark] .colab-df-convert {\n",
              "      background-color: #3B4455;\n",
              "      fill: #D2E3FC;\n",
              "    }\n",
              "\n",
              "    [theme=dark] .colab-df-convert:hover {\n",
              "      background-color: #434B5C;\n",
              "      box-shadow: 0px 1px 3px 1px rgba(0, 0, 0, 0.15);\n",
              "      filter: drop-shadow(0px 1px 2px rgba(0, 0, 0, 0.3));\n",
              "      fill: #FFFFFF;\n",
              "    }\n",
              "  </style>\n",
              "\n",
              "      <script>\n",
              "        const buttonEl =\n",
              "          document.querySelector('#df-81fe31c1-564c-4690-881f-fbbad0de7800 button.colab-df-convert');\n",
              "        buttonEl.style.display =\n",
              "          google.colab.kernel.accessAllowed ? 'block' : 'none';\n",
              "\n",
              "        async function convertToInteractive(key) {\n",
              "          const element = document.querySelector('#df-81fe31c1-564c-4690-881f-fbbad0de7800');\n",
              "          const dataTable =\n",
              "            await google.colab.kernel.invokeFunction('convertToInteractive',\n",
              "                                                     [key], {});\n",
              "          if (!dataTable) return;\n",
              "\n",
              "          const docLinkHtml = 'Like what you see? Visit the ' +\n",
              "            '<a target=\"_blank\" href=https://colab.research.google.com/notebooks/data_table.ipynb>data table notebook</a>'\n",
              "            + ' to learn more about interactive tables.';\n",
              "          element.innerHTML = '';\n",
              "          dataTable['output_type'] = 'display_data';\n",
              "          await google.colab.output.renderOutput(dataTable, element);\n",
              "          const docLink = document.createElement('div');\n",
              "          docLink.innerHTML = docLinkHtml;\n",
              "          element.appendChild(docLink);\n",
              "        }\n",
              "      </script>\n",
              "    </div>\n",
              "  </div>\n",
              "  "
            ]
          },
          "metadata": {},
          "execution_count": 9
        }
      ]
    },
    {
      "cell_type": "code",
      "source": [
        "df = pd.concat([df1,df2], ignore_index=True)"
      ],
      "metadata": {
        "id": "qvefYIQHTGz4"
      },
      "execution_count": null,
      "outputs": []
    },
    {
      "cell_type": "code",
      "source": [
        "df"
      ],
      "metadata": {
        "colab": {
          "base_uri": "https://localhost:8080/",
          "height": 696
        },
        "id": "WtB8erafTLR2",
        "outputId": "398e581f-c4bb-4ce9-b2c4-2273672de192"
      },
      "execution_count": null,
      "outputs": [
        {
          "output_type": "execute_result",
          "data": {
            "text/plain": [
              "               Datetime  RealEnergyWH  ApparentEnergyVAH  ReactiveEnergyVARHP  \\\n",
              "0      21-04-2023 12:52        963668             969454                27315   \n",
              "1      21-04-2023 12:59        963710             969496                27315   \n",
              "2      21-04-2023 13:09        963768             969554                27317   \n",
              "3      21-04-2023 13:12        963786             969572                27318   \n",
              "4      21-04-2023 13:13        963792             969578                27318   \n",
              "...                 ...           ...                ...                  ...   \n",
              "13592  30-04-2023 23:55         27557              27622                  721   \n",
              "13593  30-04-2023 23:56         27560              27625                  721   \n",
              "13594  30-04-2023 23:57         27562              27627                  721   \n",
              "13595  30-04-2023 23:58         27565              27630                  721   \n",
              "13596  30-04-2023 23:59         27567              27632                  721   \n",
              "\n",
              "       ReactiveEnergyVARHN  LineVoltageVRY  LineVoltageVYB  LineVoltageVBR  \\\n",
              "0                    10322          416.77          417.37          418.30   \n",
              "1                    10322          419.13          417.86          419.36   \n",
              "2                    10323          415.64          414.27          416.03   \n",
              "3                    10323          415.64          413.81          415.87   \n",
              "4                    10324          415.67          413.73          415.66   \n",
              "...                    ...             ...             ...             ...   \n",
              "13592                  313          430.52          428.51          431.69   \n",
              "13593                  313          429.10          428.47          430.27   \n",
              "13594                  313          430.63          429.58          431.64   \n",
              "13595                  313          423.49          422.81          423.94   \n",
              "13596                  313          423.88          423.03          424.40   \n",
              "\n",
              "       LineCurrentIR  LineCurrentIY  ...  Frequency  RealPowerR  RealPowerY  \\\n",
              "0             493.08         493.10  ...       49.9   117869.63   117736.88   \n",
              "1             488.95         504.48  ...       49.9   117927.99   120899.63   \n",
              "2             422.38         486.38  ...       50.0   100594.30   115218.39   \n",
              "3             457.37         526.51  ...       50.0   109418.73   124320.09   \n",
              "4             476.36         594.47  ...       49.9   113935.99   140918.69   \n",
              "...              ...            ...  ...        ...         ...         ...   \n",
              "13592         239.27         197.78  ...       49.9    59238.55    48402.32   \n",
              "13593         250.41         197.68  ...       49.9    61678.11    48332.04   \n",
              "13594         251.65         198.09  ...       50.0    62238.39    48554.61   \n",
              "13595         237.62         196.64  ...       50.0    57744.47    47535.50   \n",
              "13596         245.25         201.19  ...       50.0    59635.42    48671.74   \n",
              "\n",
              "       RealPowerB  ReactivePowerR  ReactivePowerY  ReactivePowerB  \\\n",
              "0       124223.56       -12163.27         5201.47         5832.24   \n",
              "1       124059.62            0.00         4522.06         7588.79   \n",
              "2       107126.50        -9140.09       -12405.52         3162.29   \n",
              "3       123099.37            0.00       -15064.57         5832.24   \n",
              "4       131975.78            0.00         4100.36         6406.04   \n",
              "...           ...             ...             ...             ...   \n",
              "13592    43668.28         2708.53         4276.07         2670.45   \n",
              "13593    43633.15         3210.44         4369.78         2424.54   \n",
              "13594    45869.82         3082.05         4533.78            0.00   \n",
              "13595    44757.34            0.00         3994.94            0.00   \n",
              "13596    44640.23         2580.13         4018.37            0.00   \n",
              "\n",
              "       ApparentPowerR  ApparentPowerY  ApparentPowerB  \n",
              "0           118301.52       117842.31       124375.80  \n",
              "1           117904.65       120969.92       124328.95  \n",
              "2           100851.10       115675.23       107173.34  \n",
              "3           109383.71       124987.79       123251.60  \n",
              "4           113900.98       140942.12       132151.44  \n",
              "...               ...             ...             ...  \n",
              "13592        59296.91        48613.17        43761.96  \n",
              "13593        61771.49        48554.61        43715.12  \n",
              "13594        62320.10        48788.88        45940.08  \n",
              "13595        57779.49        47722.92        44804.18  \n",
              "13596        59693.79        48859.17        44698.79  \n",
              "\n",
              "[13597 rows x 28 columns]"
            ],
            "text/html": [
              "\n",
              "  <div id=\"df-0e80b001-2fad-4518-bc4f-431ca808b61b\">\n",
              "    <div class=\"colab-df-container\">\n",
              "      <div>\n",
              "<style scoped>\n",
              "    .dataframe tbody tr th:only-of-type {\n",
              "        vertical-align: middle;\n",
              "    }\n",
              "\n",
              "    .dataframe tbody tr th {\n",
              "        vertical-align: top;\n",
              "    }\n",
              "\n",
              "    .dataframe thead th {\n",
              "        text-align: right;\n",
              "    }\n",
              "</style>\n",
              "<table border=\"1\" class=\"dataframe\">\n",
              "  <thead>\n",
              "    <tr style=\"text-align: right;\">\n",
              "      <th></th>\n",
              "      <th>Datetime</th>\n",
              "      <th>RealEnergyWH</th>\n",
              "      <th>ApparentEnergyVAH</th>\n",
              "      <th>ReactiveEnergyVARHP</th>\n",
              "      <th>ReactiveEnergyVARHN</th>\n",
              "      <th>LineVoltageVRY</th>\n",
              "      <th>LineVoltageVYB</th>\n",
              "      <th>LineVoltageVBR</th>\n",
              "      <th>LineCurrentIR</th>\n",
              "      <th>LineCurrentIY</th>\n",
              "      <th>...</th>\n",
              "      <th>Frequency</th>\n",
              "      <th>RealPowerR</th>\n",
              "      <th>RealPowerY</th>\n",
              "      <th>RealPowerB</th>\n",
              "      <th>ReactivePowerR</th>\n",
              "      <th>ReactivePowerY</th>\n",
              "      <th>ReactivePowerB</th>\n",
              "      <th>ApparentPowerR</th>\n",
              "      <th>ApparentPowerY</th>\n",
              "      <th>ApparentPowerB</th>\n",
              "    </tr>\n",
              "  </thead>\n",
              "  <tbody>\n",
              "    <tr>\n",
              "      <th>0</th>\n",
              "      <td>21-04-2023 12:52</td>\n",
              "      <td>963668</td>\n",
              "      <td>969454</td>\n",
              "      <td>27315</td>\n",
              "      <td>10322</td>\n",
              "      <td>416.77</td>\n",
              "      <td>417.37</td>\n",
              "      <td>418.30</td>\n",
              "      <td>493.08</td>\n",
              "      <td>493.10</td>\n",
              "      <td>...</td>\n",
              "      <td>49.9</td>\n",
              "      <td>117869.63</td>\n",
              "      <td>117736.88</td>\n",
              "      <td>124223.56</td>\n",
              "      <td>-12163.27</td>\n",
              "      <td>5201.47</td>\n",
              "      <td>5832.24</td>\n",
              "      <td>118301.52</td>\n",
              "      <td>117842.31</td>\n",
              "      <td>124375.80</td>\n",
              "    </tr>\n",
              "    <tr>\n",
              "      <th>1</th>\n",
              "      <td>21-04-2023 12:59</td>\n",
              "      <td>963710</td>\n",
              "      <td>969496</td>\n",
              "      <td>27315</td>\n",
              "      <td>10322</td>\n",
              "      <td>419.13</td>\n",
              "      <td>417.86</td>\n",
              "      <td>419.36</td>\n",
              "      <td>488.95</td>\n",
              "      <td>504.48</td>\n",
              "      <td>...</td>\n",
              "      <td>49.9</td>\n",
              "      <td>117927.99</td>\n",
              "      <td>120899.63</td>\n",
              "      <td>124059.62</td>\n",
              "      <td>0.00</td>\n",
              "      <td>4522.06</td>\n",
              "      <td>7588.79</td>\n",
              "      <td>117904.65</td>\n",
              "      <td>120969.92</td>\n",
              "      <td>124328.95</td>\n",
              "    </tr>\n",
              "    <tr>\n",
              "      <th>2</th>\n",
              "      <td>21-04-2023 13:09</td>\n",
              "      <td>963768</td>\n",
              "      <td>969554</td>\n",
              "      <td>27317</td>\n",
              "      <td>10323</td>\n",
              "      <td>415.64</td>\n",
              "      <td>414.27</td>\n",
              "      <td>416.03</td>\n",
              "      <td>422.38</td>\n",
              "      <td>486.38</td>\n",
              "      <td>...</td>\n",
              "      <td>50.0</td>\n",
              "      <td>100594.30</td>\n",
              "      <td>115218.39</td>\n",
              "      <td>107126.50</td>\n",
              "      <td>-9140.09</td>\n",
              "      <td>-12405.52</td>\n",
              "      <td>3162.29</td>\n",
              "      <td>100851.10</td>\n",
              "      <td>115675.23</td>\n",
              "      <td>107173.34</td>\n",
              "    </tr>\n",
              "    <tr>\n",
              "      <th>3</th>\n",
              "      <td>21-04-2023 13:12</td>\n",
              "      <td>963786</td>\n",
              "      <td>969572</td>\n",
              "      <td>27318</td>\n",
              "      <td>10323</td>\n",
              "      <td>415.64</td>\n",
              "      <td>413.81</td>\n",
              "      <td>415.87</td>\n",
              "      <td>457.37</td>\n",
              "      <td>526.51</td>\n",
              "      <td>...</td>\n",
              "      <td>50.0</td>\n",
              "      <td>109418.73</td>\n",
              "      <td>124320.09</td>\n",
              "      <td>123099.37</td>\n",
              "      <td>0.00</td>\n",
              "      <td>-15064.57</td>\n",
              "      <td>5832.24</td>\n",
              "      <td>109383.71</td>\n",
              "      <td>124987.79</td>\n",
              "      <td>123251.60</td>\n",
              "    </tr>\n",
              "    <tr>\n",
              "      <th>4</th>\n",
              "      <td>21-04-2023 13:13</td>\n",
              "      <td>963792</td>\n",
              "      <td>969578</td>\n",
              "      <td>27318</td>\n",
              "      <td>10324</td>\n",
              "      <td>415.67</td>\n",
              "      <td>413.73</td>\n",
              "      <td>415.66</td>\n",
              "      <td>476.36</td>\n",
              "      <td>594.47</td>\n",
              "      <td>...</td>\n",
              "      <td>49.9</td>\n",
              "      <td>113935.99</td>\n",
              "      <td>140918.69</td>\n",
              "      <td>131975.78</td>\n",
              "      <td>0.00</td>\n",
              "      <td>4100.36</td>\n",
              "      <td>6406.04</td>\n",
              "      <td>113900.98</td>\n",
              "      <td>140942.12</td>\n",
              "      <td>132151.44</td>\n",
              "    </tr>\n",
              "    <tr>\n",
              "      <th>...</th>\n",
              "      <td>...</td>\n",
              "      <td>...</td>\n",
              "      <td>...</td>\n",
              "      <td>...</td>\n",
              "      <td>...</td>\n",
              "      <td>...</td>\n",
              "      <td>...</td>\n",
              "      <td>...</td>\n",
              "      <td>...</td>\n",
              "      <td>...</td>\n",
              "      <td>...</td>\n",
              "      <td>...</td>\n",
              "      <td>...</td>\n",
              "      <td>...</td>\n",
              "      <td>...</td>\n",
              "      <td>...</td>\n",
              "      <td>...</td>\n",
              "      <td>...</td>\n",
              "      <td>...</td>\n",
              "      <td>...</td>\n",
              "      <td>...</td>\n",
              "    </tr>\n",
              "    <tr>\n",
              "      <th>13592</th>\n",
              "      <td>30-04-2023 23:55</td>\n",
              "      <td>27557</td>\n",
              "      <td>27622</td>\n",
              "      <td>721</td>\n",
              "      <td>313</td>\n",
              "      <td>430.52</td>\n",
              "      <td>428.51</td>\n",
              "      <td>431.69</td>\n",
              "      <td>239.27</td>\n",
              "      <td>197.78</td>\n",
              "      <td>...</td>\n",
              "      <td>49.9</td>\n",
              "      <td>59238.55</td>\n",
              "      <td>48402.32</td>\n",
              "      <td>43668.28</td>\n",
              "      <td>2708.53</td>\n",
              "      <td>4276.07</td>\n",
              "      <td>2670.45</td>\n",
              "      <td>59296.91</td>\n",
              "      <td>48613.17</td>\n",
              "      <td>43761.96</td>\n",
              "    </tr>\n",
              "    <tr>\n",
              "      <th>13593</th>\n",
              "      <td>30-04-2023 23:56</td>\n",
              "      <td>27560</td>\n",
              "      <td>27625</td>\n",
              "      <td>721</td>\n",
              "      <td>313</td>\n",
              "      <td>429.10</td>\n",
              "      <td>428.47</td>\n",
              "      <td>430.27</td>\n",
              "      <td>250.41</td>\n",
              "      <td>197.68</td>\n",
              "      <td>...</td>\n",
              "      <td>49.9</td>\n",
              "      <td>61678.11</td>\n",
              "      <td>48332.04</td>\n",
              "      <td>43633.15</td>\n",
              "      <td>3210.44</td>\n",
              "      <td>4369.78</td>\n",
              "      <td>2424.54</td>\n",
              "      <td>61771.49</td>\n",
              "      <td>48554.61</td>\n",
              "      <td>43715.12</td>\n",
              "    </tr>\n",
              "    <tr>\n",
              "      <th>13594</th>\n",
              "      <td>30-04-2023 23:57</td>\n",
              "      <td>27562</td>\n",
              "      <td>27627</td>\n",
              "      <td>721</td>\n",
              "      <td>313</td>\n",
              "      <td>430.63</td>\n",
              "      <td>429.58</td>\n",
              "      <td>431.64</td>\n",
              "      <td>251.65</td>\n",
              "      <td>198.09</td>\n",
              "      <td>...</td>\n",
              "      <td>50.0</td>\n",
              "      <td>62238.39</td>\n",
              "      <td>48554.61</td>\n",
              "      <td>45869.82</td>\n",
              "      <td>3082.05</td>\n",
              "      <td>4533.78</td>\n",
              "      <td>0.00</td>\n",
              "      <td>62320.10</td>\n",
              "      <td>48788.88</td>\n",
              "      <td>45940.08</td>\n",
              "    </tr>\n",
              "    <tr>\n",
              "      <th>13595</th>\n",
              "      <td>30-04-2023 23:58</td>\n",
              "      <td>27565</td>\n",
              "      <td>27630</td>\n",
              "      <td>721</td>\n",
              "      <td>313</td>\n",
              "      <td>423.49</td>\n",
              "      <td>422.81</td>\n",
              "      <td>423.94</td>\n",
              "      <td>237.62</td>\n",
              "      <td>196.64</td>\n",
              "      <td>...</td>\n",
              "      <td>50.0</td>\n",
              "      <td>57744.47</td>\n",
              "      <td>47535.50</td>\n",
              "      <td>44757.34</td>\n",
              "      <td>0.00</td>\n",
              "      <td>3994.94</td>\n",
              "      <td>0.00</td>\n",
              "      <td>57779.49</td>\n",
              "      <td>47722.92</td>\n",
              "      <td>44804.18</td>\n",
              "    </tr>\n",
              "    <tr>\n",
              "      <th>13596</th>\n",
              "      <td>30-04-2023 23:59</td>\n",
              "      <td>27567</td>\n",
              "      <td>27632</td>\n",
              "      <td>721</td>\n",
              "      <td>313</td>\n",
              "      <td>423.88</td>\n",
              "      <td>423.03</td>\n",
              "      <td>424.40</td>\n",
              "      <td>245.25</td>\n",
              "      <td>201.19</td>\n",
              "      <td>...</td>\n",
              "      <td>50.0</td>\n",
              "      <td>59635.42</td>\n",
              "      <td>48671.74</td>\n",
              "      <td>44640.23</td>\n",
              "      <td>2580.13</td>\n",
              "      <td>4018.37</td>\n",
              "      <td>0.00</td>\n",
              "      <td>59693.79</td>\n",
              "      <td>48859.17</td>\n",
              "      <td>44698.79</td>\n",
              "    </tr>\n",
              "  </tbody>\n",
              "</table>\n",
              "<p>13597 rows × 28 columns</p>\n",
              "</div>\n",
              "      <button class=\"colab-df-convert\" onclick=\"convertToInteractive('df-0e80b001-2fad-4518-bc4f-431ca808b61b')\"\n",
              "              title=\"Convert this dataframe to an interactive table.\"\n",
              "              style=\"display:none;\">\n",
              "        \n",
              "  <svg xmlns=\"http://www.w3.org/2000/svg\" height=\"24px\"viewBox=\"0 0 24 24\"\n",
              "       width=\"24px\">\n",
              "    <path d=\"M0 0h24v24H0V0z\" fill=\"none\"/>\n",
              "    <path d=\"M18.56 5.44l.94 2.06.94-2.06 2.06-.94-2.06-.94-.94-2.06-.94 2.06-2.06.94zm-11 1L8.5 8.5l.94-2.06 2.06-.94-2.06-.94L8.5 2.5l-.94 2.06-2.06.94zm10 10l.94 2.06.94-2.06 2.06-.94-2.06-.94-.94-2.06-.94 2.06-2.06.94z\"/><path d=\"M17.41 7.96l-1.37-1.37c-.4-.4-.92-.59-1.43-.59-.52 0-1.04.2-1.43.59L10.3 9.45l-7.72 7.72c-.78.78-.78 2.05 0 2.83L4 21.41c.39.39.9.59 1.41.59.51 0 1.02-.2 1.41-.59l7.78-7.78 2.81-2.81c.8-.78.8-2.07 0-2.86zM5.41 20L4 18.59l7.72-7.72 1.47 1.35L5.41 20z\"/>\n",
              "  </svg>\n",
              "      </button>\n",
              "      \n",
              "  <style>\n",
              "    .colab-df-container {\n",
              "      display:flex;\n",
              "      flex-wrap:wrap;\n",
              "      gap: 12px;\n",
              "    }\n",
              "\n",
              "    .colab-df-convert {\n",
              "      background-color: #E8F0FE;\n",
              "      border: none;\n",
              "      border-radius: 50%;\n",
              "      cursor: pointer;\n",
              "      display: none;\n",
              "      fill: #1967D2;\n",
              "      height: 32px;\n",
              "      padding: 0 0 0 0;\n",
              "      width: 32px;\n",
              "    }\n",
              "\n",
              "    .colab-df-convert:hover {\n",
              "      background-color: #E2EBFA;\n",
              "      box-shadow: 0px 1px 2px rgba(60, 64, 67, 0.3), 0px 1px 3px 1px rgba(60, 64, 67, 0.15);\n",
              "      fill: #174EA6;\n",
              "    }\n",
              "\n",
              "    [theme=dark] .colab-df-convert {\n",
              "      background-color: #3B4455;\n",
              "      fill: #D2E3FC;\n",
              "    }\n",
              "\n",
              "    [theme=dark] .colab-df-convert:hover {\n",
              "      background-color: #434B5C;\n",
              "      box-shadow: 0px 1px 3px 1px rgba(0, 0, 0, 0.15);\n",
              "      filter: drop-shadow(0px 1px 2px rgba(0, 0, 0, 0.3));\n",
              "      fill: #FFFFFF;\n",
              "    }\n",
              "  </style>\n",
              "\n",
              "      <script>\n",
              "        const buttonEl =\n",
              "          document.querySelector('#df-0e80b001-2fad-4518-bc4f-431ca808b61b button.colab-df-convert');\n",
              "        buttonEl.style.display =\n",
              "          google.colab.kernel.accessAllowed ? 'block' : 'none';\n",
              "\n",
              "        async function convertToInteractive(key) {\n",
              "          const element = document.querySelector('#df-0e80b001-2fad-4518-bc4f-431ca808b61b');\n",
              "          const dataTable =\n",
              "            await google.colab.kernel.invokeFunction('convertToInteractive',\n",
              "                                                     [key], {});\n",
              "          if (!dataTable) return;\n",
              "\n",
              "          const docLinkHtml = 'Like what you see? Visit the ' +\n",
              "            '<a target=\"_blank\" href=https://colab.research.google.com/notebooks/data_table.ipynb>data table notebook</a>'\n",
              "            + ' to learn more about interactive tables.';\n",
              "          element.innerHTML = '';\n",
              "          dataTable['output_type'] = 'display_data';\n",
              "          await google.colab.output.renderOutput(dataTable, element);\n",
              "          const docLink = document.createElement('div');\n",
              "          docLink.innerHTML = docLinkHtml;\n",
              "          element.appendChild(docLink);\n",
              "        }\n",
              "      </script>\n",
              "    </div>\n",
              "  </div>\n",
              "  "
            ]
          },
          "metadata": {},
          "execution_count": 18
        }
      ]
    },
    {
      "cell_type": "code",
      "source": [
        "df.columns"
      ],
      "metadata": {
        "colab": {
          "base_uri": "https://localhost:8080/"
        },
        "id": "AlLrMmclTMO8",
        "outputId": "5660e4f3-4e13-45ee-f1df-6835136dce9e"
      },
      "execution_count": null,
      "outputs": [
        {
          "output_type": "execute_result",
          "data": {
            "text/plain": [
              "Index(['Datetime', 'RealEnergyWH', 'ApparentEnergyVAH', 'ReactiveEnergyVARHP',\n",
              "       'ReactiveEnergyVARHN', 'LineVoltageVRY', 'LineVoltageVYB',\n",
              "       'LineVoltageVBR', 'LineCurrentIR', 'LineCurrentIY', 'LineCurrentIB',\n",
              "       'RealPower', 'ReactivePower', 'ApparentPower', 'PhaseVoltageVRN',\n",
              "       'PhaseVoltageVYN', 'PhaseVoltageVBN', 'PowerFactor', 'Frequency',\n",
              "       'RealPowerR', 'RealPowerY', 'RealPowerB', 'ReactivePowerR',\n",
              "       'ReactivePowerY', 'ReactivePowerB', 'ApparentPowerR', 'ApparentPowerY',\n",
              "       'ApparentPowerB'],\n",
              "      dtype='object')"
            ]
          },
          "metadata": {},
          "execution_count": 15
        }
      ]
    },
    {
      "cell_type": "code",
      "source": [
        "df['Year'] = pd.to_datetime(df['Datetime']).dt.year\n",
        "df['Month'] = pd.to_datetime(df['Datetime']).dt.month\n",
        "df['Day'] = pd.to_datetime(df['Datetime']).dt.day\n",
        "df['Hour'] = pd.to_datetime(df['Datetime']).dt.hour\n",
        "df['Mins'] = pd.to_datetime(df['Datetime']).dt.minute"
      ],
      "metadata": {
        "id": "AuEqK-JHTaJx"
      },
      "execution_count": null,
      "outputs": []
    },
    {
      "cell_type": "code",
      "source": [
        "df.drop(columns=['Datetime'],axis=1,inplace=True)"
      ],
      "metadata": {
        "id": "snRcT1gTTyWM"
      },
      "execution_count": null,
      "outputs": []
    },
    {
      "cell_type": "code",
      "source": [
        "df.drop(columns=['Year'],axis=1,inplace=True)"
      ],
      "metadata": {
        "id": "QQjsJ-TWzsIX"
      },
      "execution_count": null,
      "outputs": []
    },
    {
      "cell_type": "code",
      "source": [
        "df.columns"
      ],
      "metadata": {
        "colab": {
          "base_uri": "https://localhost:8080/"
        },
        "id": "5-bo3sThztyG",
        "outputId": "ce1fb34a-c745-4fd8-b7db-6696f48e7659"
      },
      "execution_count": null,
      "outputs": [
        {
          "output_type": "execute_result",
          "data": {
            "text/plain": [
              "Index(['RealEnergyWH', 'ApparentEnergyVAH', 'ReactiveEnergyVARHP',\n",
              "       'ReactiveEnergyVARHN', 'LineVoltageVRY', 'LineVoltageVYB',\n",
              "       'LineVoltageVBR', 'LineCurrentIR', 'LineCurrentIY', 'LineCurrentIB',\n",
              "       'RealPower', 'ReactivePower', 'ApparentPower', 'PhaseVoltageVRN',\n",
              "       'PhaseVoltageVYN', 'PhaseVoltageVBN', 'PowerFactor', 'Frequency',\n",
              "       'RealPowerR', 'RealPowerY', 'RealPowerB', 'ReactivePowerR',\n",
              "       'ReactivePowerY', 'ReactivePowerB', 'ApparentPowerR', 'ApparentPowerY',\n",
              "       'ApparentPowerB', 'Month', 'Day', 'Hour', 'Mins'],\n",
              "      dtype='object')"
            ]
          },
          "metadata": {},
          "execution_count": 22
        }
      ]
    },
    {
      "cell_type": "code",
      "source": [
        "df.isnull().sum()"
      ],
      "metadata": {
        "colab": {
          "base_uri": "https://localhost:8080/"
        },
        "id": "iOkTH3Q0z2WY",
        "outputId": "b69947b6-f059-4a8a-d5c8-fc2df36cc7e9"
      },
      "execution_count": null,
      "outputs": [
        {
          "output_type": "execute_result",
          "data": {
            "text/plain": [
              "RealEnergyWH           0\n",
              "ApparentEnergyVAH      0\n",
              "ReactiveEnergyVARHP    0\n",
              "ReactiveEnergyVARHN    0\n",
              "LineVoltageVRY         0\n",
              "LineVoltageVYB         0\n",
              "LineVoltageVBR         0\n",
              "LineCurrentIR          0\n",
              "LineCurrentIY          0\n",
              "LineCurrentIB          0\n",
              "RealPower              0\n",
              "ReactivePower          0\n",
              "ApparentPower          0\n",
              "PhaseVoltageVRN        0\n",
              "PhaseVoltageVYN        0\n",
              "PhaseVoltageVBN        0\n",
              "PowerFactor            0\n",
              "Frequency              0\n",
              "RealPowerR             0\n",
              "RealPowerY             0\n",
              "RealPowerB             0\n",
              "ReactivePowerR         0\n",
              "ReactivePowerY         0\n",
              "ReactivePowerB         0\n",
              "ApparentPowerR         0\n",
              "ApparentPowerY         0\n",
              "ApparentPowerB         0\n",
              "Month                  0\n",
              "Day                    0\n",
              "Hour                   0\n",
              "Mins                   0\n",
              "dtype: int64"
            ]
          },
          "metadata": {},
          "execution_count": 23
        }
      ]
    },
    {
      "cell_type": "code",
      "source": [
        "df.corr()['RealPower'].sort_values()[:-1].plot(kind='bar')"
      ],
      "metadata": {
        "colab": {
          "base_uri": "https://localhost:8080/",
          "height": 587
        },
        "id": "ZgKOMdAtz3qw",
        "outputId": "061f8aad-6ac7-4ddc-ff14-878580083cbd"
      },
      "execution_count": null,
      "outputs": [
        {
          "output_type": "execute_result",
          "data": {
            "text/plain": [
              "<Axes: >"
            ]
          },
          "metadata": {},
          "execution_count": 29
        },
        {
          "output_type": "display_data",
          "data": {
            "text/plain": [
              "<Figure size 640x480 with 1 Axes>"
            ],
            "image/png": "[encoded data removed]"
          },
          "metadata": {}
        }
      ]
    },
    {
      "cell_type": "code",
      "source": [
        "df.drop(columns=['RealPowerB'],axis=1,inplace=True)\n",
        "df.drop(columns=['RealPowerR'],axis=1,inplace=True)\n",
        "df.drop(columns=['RealPowerY'],axis=1,inplace=True)"
      ],
      "metadata": {
        "id": "vqqQmqivz--D"
      },
      "execution_count": null,
      "outputs": []
    },
    {
      "cell_type": "code",
      "source": [
        "df.corr()['RealPower'].sort_values()[:-1].plot(kind='bar')"
      ],
      "metadata": {
        "colab": {
          "base_uri": "https://localhost:8080/",
          "height": 587
        },
        "id": "HDpgnhV608Ry",
        "outputId": "7f0d0086-a74b-4177-8dca-84952dea7172"
      },
      "execution_count": null,
      "outputs": [
        {
          "output_type": "execute_result",
          "data": {
            "text/plain": [
              "<Axes: >"
            ]
          },
          "metadata": {},
          "execution_count": 33
        },
        {
          "output_type": "display_data",
          "data": {
            "text/plain": [
              "<Figure size 640x480 with 1 Axes>"
            ],
            "image/png": "[encoded data removed]"
          },
          "metadata": {}
        }
      ]
    },
    {
      "cell_type": "code",
      "source": [
        "df.head()"
      ],
      "metadata": {
        "colab": {
          "base_uri": "https://localhost:8080/",
          "height": 262
        },
        "id": "PLnr0Tk21aMf",
        "outputId": "1ec68d05-ca55-46c8-e43d-5e072bf99570"
      },
      "execution_count": null,
      "outputs": [
        {
          "output_type": "execute_result",
          "data": {
            "text/plain": [
              "   RealEnergyWH  ApparentEnergyVAH  ReactiveEnergyVARHP  ReactiveEnergyVARHN  \\\n",
              "0        963668             969454                27315                10322   \n",
              "1        963710             969496                27315                10322   \n",
              "2        963768             969554                27317                10323   \n",
              "3        963786             969572                27318                10323   \n",
              "4        963792             969578                27318                10324   \n",
              "\n",
              "   LineVoltageVRY  LineVoltageVYB  LineVoltageVBR  LineCurrentIR  \\\n",
              "0          416.77          417.37          418.30         493.08   \n",
              "1          419.13          417.86          419.36         488.95   \n",
              "2          415.64          414.27          416.03         422.38   \n",
              "3          415.64          413.81          415.87         457.37   \n",
              "4          415.67          413.73          415.66         476.36   \n",
              "\n",
              "   LineCurrentIY  LineCurrentIB  ...  ReactivePowerR  ReactivePowerY  \\\n",
              "0         493.10         519.07  ...       -12163.27         5201.47   \n",
              "1         504.48         518.45  ...            0.00         4522.06   \n",
              "2         486.38         449.98  ...        -9140.09       -12405.52   \n",
              "3         526.51         518.14  ...            0.00       -15064.57   \n",
              "4         594.47         555.06  ...            0.00         4100.36   \n",
              "\n",
              "   ReactivePowerB  ApparentPowerR  ApparentPowerY  ApparentPowerB  Month  Day  \\\n",
              "0         5832.24       118301.52       117842.31       124375.80      4   21   \n",
              "1         7588.79       117904.65       120969.92       124328.95      4   21   \n",
              "2         3162.29       100851.10       115675.23       107173.34      4   21   \n",
              "3         5832.24       109383.71       124987.79       123251.60      4   21   \n",
              "4         6406.04       113900.98       140942.12       132151.44      4   21   \n",
              "\n",
              "   Hour  Mins  \n",
              "0    12    52  \n",
              "1    12    59  \n",
              "2    13     9  \n",
              "3    13    12  \n",
              "4    13    13  \n",
              "\n",
              "[5 rows x 28 columns]"
            ],
            "text/html": [
              "\n",
              "  <div id=\"df-bebfd217-64b8-4682-8f0a-fff95cecbac8\">\n",
              "    <div class=\"colab-df-container\">\n",
              "      <div>\n",
              "<style scoped>\n",
              "    .dataframe tbody tr th:only-of-type {\n",
              "        vertical-align: middle;\n",
              "    }\n",
              "\n",
              "    .dataframe tbody tr th {\n",
              "        vertical-align: top;\n",
              "    }\n",
              "\n",
              "    .dataframe thead th {\n",
              "        text-align: right;\n",
              "    }\n",
              "</style>\n",
              "<table border=\"1\" class=\"dataframe\">\n",
              "  <thead>\n",
              "    <tr style=\"text-align: right;\">\n",
              "      <th></th>\n",
              "      <th>RealEnergyWH</th>\n",
              "      <th>ApparentEnergyVAH</th>\n",
              "      <th>ReactiveEnergyVARHP</th>\n",
              "      <th>ReactiveEnergyVARHN</th>\n",
              "      <th>LineVoltageVRY</th>\n",
              "      <th>LineVoltageVYB</th>\n",
              "      <th>LineVoltageVBR</th>\n",
              "      <th>LineCurrentIR</th>\n",
              "      <th>LineCurrentIY</th>\n",
              "      <th>LineCurrentIB</th>\n",
              "      <th>...</th>\n",
              "      <th>ReactivePowerR</th>\n",
              "      <th>ReactivePowerY</th>\n",
              "      <th>ReactivePowerB</th>\n",
              "      <th>ApparentPowerR</th>\n",
              "      <th>ApparentPowerY</th>\n",
              "      <th>ApparentPowerB</th>\n",
              "      <th>Month</th>\n",
              "      <th>Day</th>\n",
              "      <th>Hour</th>\n",
              "      <th>Mins</th>\n",
              "    </tr>\n",
              "  </thead>\n",
              "  <tbody>\n",
              "    <tr>\n",
              "      <th>0</th>\n",
              "      <td>963668</td>\n",
              "      <td>969454</td>\n",
              "      <td>27315</td>\n",
              "      <td>10322</td>\n",
              "      <td>416.77</td>\n",
              "      <td>417.37</td>\n",
              "      <td>418.30</td>\n",
              "      <td>493.08</td>\n",
              "      <td>493.10</td>\n",
              "      <td>519.07</td>\n",
              "      <td>...</td>\n",
              "      <td>-12163.27</td>\n",
              "      <td>5201.47</td>\n",
              "      <td>5832.24</td>\n",
              "      <td>118301.52</td>\n",
              "      <td>117842.31</td>\n",
              "      <td>124375.80</td>\n",
              "      <td>4</td>\n",
              "      <td>21</td>\n",
              "      <td>12</td>\n",
              "      <td>52</td>\n",
              "    </tr>\n",
              "    <tr>\n",
              "      <th>1</th>\n",
              "      <td>963710</td>\n",
              "      <td>969496</td>\n",
              "      <td>27315</td>\n",
              "      <td>10322</td>\n",
              "      <td>419.13</td>\n",
              "      <td>417.86</td>\n",
              "      <td>419.36</td>\n",
              "      <td>488.95</td>\n",
              "      <td>504.48</td>\n",
              "      <td>518.45</td>\n",
              "      <td>...</td>\n",
              "      <td>0.00</td>\n",
              "      <td>4522.06</td>\n",
              "      <td>7588.79</td>\n",
              "      <td>117904.65</td>\n",
              "      <td>120969.92</td>\n",
              "      <td>124328.95</td>\n",
              "      <td>4</td>\n",
              "      <td>21</td>\n",
              "      <td>12</td>\n",
              "      <td>59</td>\n",
              "    </tr>\n",
              "    <tr>\n",
              "      <th>2</th>\n",
              "      <td>963768</td>\n",
              "      <td>969554</td>\n",
              "      <td>27317</td>\n",
              "      <td>10323</td>\n",
              "      <td>415.64</td>\n",
              "      <td>414.27</td>\n",
              "      <td>416.03</td>\n",
              "      <td>422.38</td>\n",
              "      <td>486.38</td>\n",
              "      <td>449.98</td>\n",
              "      <td>...</td>\n",
              "      <td>-9140.09</td>\n",
              "      <td>-12405.52</td>\n",
              "      <td>3162.29</td>\n",
              "      <td>100851.10</td>\n",
              "      <td>115675.23</td>\n",
              "      <td>107173.34</td>\n",
              "      <td>4</td>\n",
              "      <td>21</td>\n",
              "      <td>13</td>\n",
              "      <td>9</td>\n",
              "    </tr>\n",
              "    <tr>\n",
              "      <th>3</th>\n",
              "      <td>963786</td>\n",
              "      <td>969572</td>\n",
              "      <td>27318</td>\n",
              "      <td>10323</td>\n",
              "      <td>415.64</td>\n",
              "      <td>413.81</td>\n",
              "      <td>415.87</td>\n",
              "      <td>457.37</td>\n",
              "      <td>526.51</td>\n",
              "      <td>518.14</td>\n",
              "      <td>...</td>\n",
              "      <td>0.00</td>\n",
              "      <td>-15064.57</td>\n",
              "      <td>5832.24</td>\n",
              "      <td>109383.71</td>\n",
              "      <td>124987.79</td>\n",
              "      <td>123251.60</td>\n",
              "      <td>4</td>\n",
              "      <td>21</td>\n",
              "      <td>13</td>\n",
              "      <td>12</td>\n",
              "    </tr>\n",
              "    <tr>\n",
              "      <th>4</th>\n",
              "      <td>963792</td>\n",
              "      <td>969578</td>\n",
              "      <td>27318</td>\n",
              "      <td>10324</td>\n",
              "      <td>415.67</td>\n",
              "      <td>413.73</td>\n",
              "      <td>415.66</td>\n",
              "      <td>476.36</td>\n",
              "      <td>594.47</td>\n",
              "      <td>555.06</td>\n",
              "      <td>...</td>\n",
              "      <td>0.00</td>\n",
              "      <td>4100.36</td>\n",
              "      <td>6406.04</td>\n",
              "      <td>113900.98</td>\n",
              "      <td>140942.12</td>\n",
              "      <td>132151.44</td>\n",
              "      <td>4</td>\n",
              "      <td>21</td>\n",
              "      <td>13</td>\n",
              "      <td>13</td>\n",
              "    </tr>\n",
              "  </tbody>\n",
              "</table>\n",
              "<p>5 rows × 28 columns</p>\n",
              "</div>\n",
              "      <button class=\"colab-df-convert\" onclick=\"convertToInteractive('df-bebfd217-64b8-4682-8f0a-fff95cecbac8')\"\n",
              "              title=\"Convert this dataframe to an interactive table.\"\n",
              "              style=\"display:none;\">\n",
              "        \n",
              "  <svg xmlns=\"http://www.w3.org/2000/svg\" height=\"24px\"viewBox=\"0 0 24 24\"\n",
              "       width=\"24px\">\n",
              "    <path d=\"M0 0h24v24H0V0z\" fill=\"none\"/>\n",
              "    <path d=\"M18.56 5.44l.94 2.06.94-2.06 2.06-.94-2.06-.94-.94-2.06-.94 2.06-2.06.94zm-11 1L8.5 8.5l.94-2.06 2.06-.94-2.06-.94L8.5 2.5l-.94 2.06-2.06.94zm10 10l.94 2.06.94-2.06 2.06-.94-2.06-.94-.94-2.06-.94 2.06-2.06.94z\"/><path d=\"M17.41 7.96l-1.37-1.37c-.4-.4-.92-.59-1.43-.59-.52 0-1.04.2-1.43.59L10.3 9.45l-7.72 7.72c-.78.78-.78 2.05 0 2.83L4 21.41c.39.39.9.59 1.41.59.51 0 1.02-.2 1.41-.59l7.78-7.78 2.81-2.81c.8-.78.8-2.07 0-2.86zM5.41 20L4 18.59l7.72-7.72 1.47 1.35L5.41 20z\"/>\n",
              "  </svg>\n",
              "      </button>\n",
              "      \n",
              "  <style>\n",
              "    .colab-df-container {\n",
              "      display:flex;\n",
              "      flex-wrap:wrap;\n",
              "      gap: 12px;\n",
              "    }\n",
              "\n",
              "    .colab-df-convert {\n",
              "      background-color: #E8F0FE;\n",
              "      border: none;\n",
              "      border-radius: 50%;\n",
              "      cursor: pointer;\n",
              "      display: none;\n",
              "      fill: #1967D2;\n",
              "      height: 32px;\n",
              "      padding: 0 0 0 0;\n",
              "      width: 32px;\n",
              "    }\n",
              "\n",
              "    .colab-df-convert:hover {\n",
              "      background-color: #E2EBFA;\n",
              "      box-shadow: 0px 1px 2px rgba(60, 64, 67, 0.3), 0px 1px 3px 1px rgba(60, 64, 67, 0.15);\n",
              "      fill: #174EA6;\n",
              "    }\n",
              "\n",
              "    [theme=dark] .colab-df-convert {\n",
              "      background-color: #3B4455;\n",
              "      fill: #D2E3FC;\n",
              "    }\n",
              "\n",
              "    [theme=dark] .colab-df-convert:hover {\n",
              "      background-color: #434B5C;\n",
              "      box-shadow: 0px 1px 3px 1px rgba(0, 0, 0, 0.15);\n",
              "      filter: drop-shadow(0px 1px 2px rgba(0, 0, 0, 0.3));\n",
              "      fill: #FFFFFF;\n",
              "    }\n",
              "  </style>\n",
              "\n",
              "      <script>\n",
              "        const buttonEl =\n",
              "          document.querySelector('#df-bebfd217-64b8-4682-8f0a-fff95cecbac8 button.colab-df-convert');\n",
              "        buttonEl.style.display =\n",
              "          google.colab.kernel.accessAllowed ? 'block' : 'none';\n",
              "\n",
              "        async function convertToInteractive(key) {\n",
              "          const element = document.querySelector('#df-bebfd217-64b8-4682-8f0a-fff95cecbac8');\n",
              "          const dataTable =\n",
              "            await google.colab.kernel.invokeFunction('convertToInteractive',\n",
              "                                                     [key], {});\n",
              "          if (!dataTable) return;\n",
              "\n",
              "          const docLinkHtml = 'Like what you see? Visit the ' +\n",
              "            '<a target=\"_blank\" href=https://colab.research.google.com/notebooks/data_table.ipynb>data table notebook</a>'\n",
              "            + ' to learn more about interactive tables.';\n",
              "          element.innerHTML = '';\n",
              "          dataTable['output_type'] = 'display_data';\n",
              "          await google.colab.output.renderOutput(dataTable, element);\n",
              "          const docLink = document.createElement('div');\n",
              "          docLink.innerHTML = docLinkHtml;\n",
              "          element.appendChild(docLink);\n",
              "        }\n",
              "      </script>\n",
              "    </div>\n",
              "  </div>\n",
              "  "
            ]
          },
          "metadata": {},
          "execution_count": 34
        }
      ]
    },
    {
      "cell_type": "code",
      "source": [
        "from sklearn.preprocessing import MinMaxScaler"
      ],
      "metadata": {
        "id": "jZar1AS91n3X"
      },
      "execution_count": null,
      "outputs": []
    },
    {
      "cell_type": "code",
      "source": [
        "scaler = MinMaxScaler()"
      ],
      "metadata": {
        "id": "6KaeitZZ2LIf"
      },
      "execution_count": null,
      "outputs": []
    },
    {
      "cell_type": "code",
      "source": [
        "from sklearn.model_selection import train_test_split"
      ],
      "metadata": {
        "id": "Ybsg8GSA2MtZ"
      },
      "execution_count": null,
      "outputs": []
    },
    {
      "cell_type": "code",
      "source": [
        "X = df.drop(columns=['RealPower'],axis=1)\n",
        "y = df['RealPower']"
      ],
      "metadata": {
        "id": "n7wq9-Sy2nN-"
      },
      "execution_count": null,
      "outputs": []
    },
    {
      "cell_type": "code",
      "source": [
        "X_train, X_test, y_train, y_test = train_test_split(X, y, test_size=0.33, random_state=42)"
      ],
      "metadata": {
        "id": "Ce3sLNc82WIq"
      },
      "execution_count": null,
      "outputs": []
    },
    {
      "cell_type": "code",
      "source": [
        "X_train = scaler.fit_transform(X_train)"
      ],
      "metadata": {
        "id": "zPCBgOec2lv9"
      },
      "execution_count": null,
      "outputs": []
    },
    {
      "cell_type": "code",
      "source": [
        "X_test = scaler.transform(X_test)"
      ],
      "metadata": {
        "id": "ce0cRDCy5yRy"
      },
      "execution_count": null,
      "outputs": []
    },
    {
      "cell_type": "code",
      "source": [
        "from tensorflow.keras.layers import Dense, Dropout\n",
        "from tensorflow.keras.models import Sequential"
      ],
      "metadata": {
        "id": "st12ZgWg54nb"
      },
      "execution_count": null,
      "outputs": []
    },
    {
      "cell_type": "code",
      "source": [
        "from tensorflow.keras.losses import MeanSquaredLogarithmicError"
      ],
      "metadata": {
        "id": "BfhVnI-sCwZD"
      },
      "execution_count": null,
      "outputs": []
    },
    {
      "cell_type": "code",
      "source": [
        "msle = MeanSquaredLogarithmicError()"
      ],
      "metadata": {
        "id": "VmUxBpNMDx5E"
      },
      "execution_count": null,
      "outputs": []
    },
    {
      "cell_type": "code",
      "source": [
        "model = Sequential()\n",
        "\n",
        "model.add(Dense(128, activation = 'relu'))\n",
        "model.add(Dropout(0.15))\n",
        "\n",
        "model.add(Dense(64, activation='relu'))\n",
        "\n",
        "model.add(Dense(1, activation='linear'))\n",
        "\n",
        "model.compile(loss=msle, optimizer = 'adam', metrics=[msle])"
      ],
      "metadata": {
        "id": "5Ixdp0x4CALh"
      },
      "execution_count": null,
      "outputs": []
    },
    {
      "cell_type": "code",
      "source": [
        "from tensorflow.keras.callbacks import EarlyStopping"
      ],
      "metadata": {
        "id": "8peZNUGtEDvB"
      },
      "execution_count": null,
      "outputs": []
    },
    {
      "cell_type": "code",
      "source": [
        "early_stop = EarlyStopping(monitor='val_loss', mode='min', patience=25)"
      ],
      "metadata": {
        "id": "PbImSHaMEJRk"
      },
      "execution_count": null,
      "outputs": []
    },
    {
      "cell_type": "code",
      "source": [
        "results = model.fit(X_train,y_train, validation_data = (X_test,y_test), epochs=6, callbacks=[early_stop], verbose=1)"
      ],
      "metadata": {
        "colab": {
          "base_uri": "https://localhost:8080/"
        },
        "id": "Ttv49gcMEKxL",
        "outputId": "6ae8dbfc-8f33-4c23-9750-bbbb4ecb5c6f"
      },
      "execution_count": null,
      "outputs": [
        {
          "output_type": "stream",
          "name": "stdout",
          "text": [
            "Epoch 1/6\n",
            "3287/3287 [==============================] - 10s 3ms/step - loss: 16.6567 - mean_squared_logarithmic_error: 16.6561 - val_loss: 3.5960 - val_mean_squared_logarithmic_error: 3.5960\n",
            "Epoch 2/6\n",
            "3287/3287 [==============================] - 9s 3ms/step - loss: 1.5847 - mean_squared_logarithmic_error: 1.5846 - val_loss: 0.4104 - val_mean_squared_logarithmic_error: 0.4104\n",
            "Epoch 3/6\n",
            "3287/3287 [==============================] - 9s 3ms/step - loss: 0.2101 - mean_squared_logarithmic_error: 0.2101 - val_loss: 0.1214 - val_mean_squared_logarithmic_error: 0.1214\n",
            "Epoch 4/6\n",
            "3287/3287 [==============================] - 9s 3ms/step - loss: 0.0996 - mean_squared_logarithmic_error: 0.0996 - val_loss: 0.0564 - val_mean_squared_logarithmic_error: 0.0564\n",
            "Epoch 5/6\n",
            "3287/3287 [==============================] - 9s 3ms/step - loss: 0.0382 - mean_squared_logarithmic_error: 0.0382 - val_loss: 0.0112 - val_mean_squared_logarithmic_error: 0.0112\n",
            "Epoch 6/6\n",
            "3287/3287 [==============================] - 7s 2ms/step - loss: 0.0152 - mean_squared_logarithmic_error: 0.0152 - val_loss: 9.4397e-04 - val_mean_squared_logarithmic_error: 9.4400e-04\n"
          ]
        }
      ]
    },
    {
      "cell_type": "code",
      "source": [
        "preds = model.predict(X_test)"
      ],
      "metadata": {
        "colab": {
          "base_uri": "https://localhost:8080/"
        },
        "id": "HTxT9viEEQFf",
        "outputId": "d1dd82f3-a6c6-4f76-a593-a2c407e6a92d"
      },
      "execution_count": null,
      "outputs": [
        {
          "output_type": "stream",
          "name": "stdout",
          "text": [
            "1619/1619 [==============================] - 2s 1ms/step\n"
          ]
        }
      ]
    },
    {
      "cell_type": "code",
      "source": [
        "from sklearn.metrics import mean_absolute_error\n",
        "mean_absolute_error(y_test,preds)"
      ],
      "metadata": {
        "colab": {
          "base_uri": "https://localhost:8080/"
        },
        "id": "alrK6yDQFeE9",
        "outputId": "fb69c577-6212-4e44-db20-ea41e38c7943"
      },
      "execution_count": null,
      "outputs": [
        {
          "output_type": "execute_result",
          "data": {
            "text/plain": [
              "6126.970326020723"
            ]
          },
          "metadata": {},
          "execution_count": 58
        }
      ]
    },
    {
      "cell_type": "markdown",
      "source": [
        "***Linear Regression***"
      ],
      "metadata": {
        "id": "sMKa4FhRF5z6"
      }
    },
    {
      "cell_type": "code",
      "source": [
        "X = df.drop(columns=['RealPower'],axis=1)\n",
        "y = df['RealPower']"
      ],
      "metadata": {
        "id": "RP_cGadOIn_H"
      },
      "execution_count": null,
      "outputs": []
    },
    {
      "cell_type": "code",
      "source": [
        "X_train, X_test, y_train, y_test = train_test_split(X, y, test_size=0.33, random_state=42)"
      ],
      "metadata": {
        "id": "yTOmLiFNIoFw"
      },
      "execution_count": null,
      "outputs": []
    },
    {
      "cell_type": "code",
      "source": [
        "from sklearn.linear_model import LinearRegression"
      ],
      "metadata": {
        "id": "z8TfjHatFfrr"
      },
      "execution_count": null,
      "outputs": []
    },
    {
      "cell_type": "code",
      "source": [
        "model = LinearRegression()"
      ],
      "metadata": {
        "id": "hquXCHAAF9OC"
      },
      "execution_count": null,
      "outputs": []
    },
    {
      "cell_type": "code",
      "source": [
        "model.fit(X_train,y_train)"
      ],
      "metadata": {
        "colab": {
          "base_uri": "https://localhost:8080/",
          "height": 64
        },
        "id": "idPPc2DfF-1W",
        "outputId": "76475cd8-6500-4e7a-8fcf-3f4dfd7d3c5e"
      },
      "execution_count": null,
      "outputs": [
        {
          "output_type": "execute_result",
          "data": {
            "text/plain": [
              "LinearRegression()"
            ],
            "text/html": [
              "<style>#sk-container-id-5 {color: black;background-color: white;}#sk-container-id-5 pre{padding: 0;}#sk-container-id-5 div.sk-toggleable {background-color: white;}#sk-container-id-5 label.sk-toggleable__label {cursor: pointer;display: block;width: 100%;margin-bottom: 0;padding: 0.3em;box-sizing: border-box;text-align: center;}#sk-container-id-5 label.sk-toggleable__label-arrow:before {content: \"▸\";float: left;margin-right: 0.25em;color: #696969;}#sk-container-id-5 label.sk-toggleable__label-arrow:hover:before {color: black;}#sk-container-id-5 div.sk-estimator:hover label.sk-toggleable__label-arrow:before {color: black;}#sk-container-id-5 div.sk-toggleable__content {max-height: 0;max-width: 0;overflow: hidden;text-align: left;background-color: #f0f8ff;}#sk-container-id-5 div.sk-toggleable__content pre {margin: 0.2em;color: black;border-radius: 0.25em;background-color: #f0f8ff;}#sk-container-id-5 input.sk-toggleable__control:checked~div.sk-toggleable__content {max-height: 200px;max-width: 100%;overflow: auto;}#sk-container-id-5 input.sk-toggleable__control:checked~label.sk-toggleable__label-arrow:before {content: \"▾\";}#sk-container-id-5 div.sk-estimator input.sk-toggleable__control:checked~label.sk-toggleable__label {background-color: #d4ebff;}#sk-container-id-5 div.sk-label input.sk-toggleable__control:checked~label.sk-toggleable__label {background-color: #d4ebff;}#sk-container-id-5 input.sk-hidden--visually {border: 0;clip: rect(1px 1px 1px 1px);clip: rect(1px, 1px, 1px, 1px);height: 1px;margin: -1px;overflow: hidden;padding: 0;position: absolute;width: 1px;}#sk-container-id-5 div.sk-estimator {font-family: monospace;background-color: #f0f8ff;border: 1px dotted black;border-radius: 0.25em;box-sizing: border-box;margin-bottom: 0.5em;}#sk-container-id-5 div.sk-estimator:hover {background-color: #d4ebff;}#sk-container-id-5 div.sk-parallel-item::after {content: \"\";width: 100%;border-bottom: 1px solid gray;flex-grow: 1;}#sk-container-id-5 div.sk-label:hover label.sk-toggleable__label {background-color: #d4ebff;}#sk-container-id-5 div.sk-serial::before {content: \"\";position: absolute;border-left: 1px solid gray;box-sizing: border-box;top: 0;bottom: 0;left: 50%;z-index: 0;}#sk-container-id-5 div.sk-serial {display: flex;flex-direction: column;align-items: center;background-color: white;padding-right: 0.2em;padding-left: 0.2em;position: relative;}#sk-container-id-5 div.sk-item {position: relative;z-index: 1;}#sk-container-id-5 div.sk-parallel {display: flex;align-items: stretch;justify-content: center;background-color: white;position: relative;}#sk-container-id-5 div.sk-item::before, #sk-container-id-5 div.sk-parallel-item::before {content: \"\";position: absolute;border-left: 1px solid gray;box-sizing: border-box;top: 0;bottom: 0;left: 50%;z-index: -1;}#sk-container-id-5 div.sk-parallel-item {display: flex;flex-direction: column;z-index: 1;position: relative;background-color: white;}#sk-container-id-5 div.sk-parallel-item:first-child::after {align-self: flex-end;width: 50%;}#sk-container-id-5 div.sk-parallel-item:last-child::after {align-self: flex-start;width: 50%;}#sk-container-id-5 div.sk-parallel-item:only-child::after {width: 0;}#sk-container-id-5 div.sk-dashed-wrapped {border: 1px dashed gray;margin: 0 0.4em 0.5em 0.4em;box-sizing: border-box;padding-bottom: 0.4em;background-color: white;}#sk-container-id-5 div.sk-label label {font-family: monospace;font-weight: bold;display: inline-block;line-height: 1.2em;}#sk-container-id-5 div.sk-label-container {text-align: center;}#sk-container-id-5 div.sk-container {/* jupyter's `normalize.less` sets `[hidden] { display: none; }` but bootstrap.min.css set `[hidden] { display: none !important; }` so we also need the `!important` here to be able to override the default hidden behavior on the sphinx rendered scikit-learn.org. See: https://github.com/scikit-learn/scikit-learn/issues/21755 */display: inline-block !important;position: relative;}#sk-container-id-5 div.sk-text-repr-fallback {display: none;}</style><div id=\"sk-container-id-5\" class=\"sk-top-container\"><div class=\"sk-text-repr-fallback\"><pre>LinearRegression()</pre><b>In a Jupyter environment, please rerun this cell to show the HTML representation or trust the notebook. <br />On GitHub, the HTML representation is unable to render, please try loading this page with nbviewer.org.</b></div><div class=\"sk-container\" hidden><div class=\"sk-item\"><div class=\"sk-estimator sk-toggleable\"><input class=\"sk-toggleable__control sk-hidden--visually\" id=\"sk-estimator-id-5\" type=\"checkbox\" checked><label for=\"sk-estimator-id-5\" class=\"sk-toggleable__label sk-toggleable__label-arrow\">LinearRegression</label><div class=\"sk-toggleable__content\"><pre>LinearRegression()</pre></div></div></div></div></div>"
            ]
          },
          "metadata": {},
          "execution_count": 77
        }
      ]
    },
    {
      "cell_type": "code",
      "source": [
        "r_sq = model.score(X_train, y_train)\n",
        "print(f\"coefficient of determination: {r_sq}\")"
      ],
      "metadata": {
        "colab": {
          "base_uri": "https://localhost:8080/"
        },
        "id": "IM5grv1oGP1V",
        "outputId": "356f0db5-daa5-4759-a6d2-2777a7bdea7e"
      },
      "execution_count": null,
      "outputs": [
        {
          "output_type": "stream",
          "name": "stdout",
          "text": [
            "coefficient of determination: 0.999968495526602\n"
          ]
        }
      ]
    },
    {
      "cell_type": "code",
      "source": [
        "y_pred = model.predict(X_test)"
      ],
      "metadata": {
        "id": "ovkhNRArGYoB"
      },
      "execution_count": null,
      "outputs": []
    },
    {
      "cell_type": "code",
      "source": [
        "print(f\"predicted response:\\n{y_pred}\")"
      ],
      "metadata": {
        "colab": {
          "base_uri": "https://localhost:8080/"
        },
        "id": "lq3TjIf4Gx7E",
        "outputId": "bc10bb0e-b3a6-428d-9432-cf105957690a"
      },
      "execution_count": null,
      "outputs": [
        {
          "output_type": "stream",
          "name": "stdout",
          "text": [
            "predicted response:\n",
            "[473295.12475058 186297.07490326 237813.58353088 ... 311921.11443306\n",
            " 139408.2933751  362503.25236972]\n"
          ]
        }
      ]
    },
    {
      "cell_type": "code",
      "source": [
        "y_test.iloc[-1]"
      ],
      "metadata": {
        "colab": {
          "base_uri": "https://localhost:8080/"
        },
        "id": "0ygAfkqnG1UA",
        "outputId": "b6b189d1-6508-42ad-eadb-69b5984c0661"
      },
      "execution_count": null,
      "outputs": [
        {
          "output_type": "execute_result",
          "data": {
            "text/plain": [
              "362514.12"
            ]
          },
          "metadata": {},
          "execution_count": 86
        }
      ]
    },
    {
      "cell_type": "code",
      "source": [
        "import pickle"
      ],
      "metadata": {
        "id": "7slv6rdkIDWH"
      },
      "execution_count": null,
      "outputs": []
    },
    {
      "cell_type": "code",
      "source": [
        "filename = 'finalized_model_SJT_tower.sav'"
      ],
      "metadata": {
        "id": "qCXSQMkWIZJn"
      },
      "execution_count": null,
      "outputs": []
    },
    {
      "cell_type": "code",
      "source": [
        "pickle.dump(model, open(filename, 'wb'))"
      ],
      "metadata": {
        "id": "_46sVApdJwF2"
      },
      "execution_count": null,
      "outputs": []
    },
    {
      "cell_type": "markdown",
      "source": [
        "***FOR REACTIVE POWER***"
      ],
      "metadata": {
        "id": "AsRDhEYyjSnE"
      }
    },
    {
      "cell_type": "code",
      "source": [
        "import pandas as pd\n",
        "import numpy as np\n",
        "import seaborn as sns\n",
        "import matplotlib.pyplot as plt\n",
        "%matplotlib inline"
      ],
      "metadata": {
        "id": "4ZWuX1fvz5xl"
      },
      "execution_count": null,
      "outputs": []
    },
    {
      "cell_type": "code",
      "source": [
        "df1 = pd.read_csv(\"/content/drive/MyDrive/SJT LOAD/SJT2.csv\")\n",
        "df2 = pd.read_csv(\"/content/drive/MyDrive/SJT LOAD/SJT2-04.csv\")"
      ],
      "metadata": {
        "id": "x2Y6MHxxz52N"
      },
      "execution_count": null,
      "outputs": []
    },
    {
      "cell_type": "code",
      "source": [
        "df1.head()"
      ],
      "metadata": {
        "colab": {
          "base_uri": "https://localhost:8080/",
          "height": 402
        },
        "id": "FeJHDnYlz56n",
        "outputId": "383909ba-3105-4bd3-c158-258b61f913df"
      },
      "execution_count": null,
      "outputs": [
        {
          "output_type": "execute_result",
          "data": {
            "text/plain": [
              "   ID          Datetime  RealEnergyWH  ApparentEnergyVAH  ReactiveEnergyVARHP  \\\n",
              "0   1  04-01-2023 15:25        316462             320876                11245   \n",
              "1   2  04-01-2023 15:26        316469             320883                11246   \n",
              "2   3  04-01-2023 15:27        316476             320890                11246   \n",
              "3   4  04-01-2023 15:28        316483             320897                11246   \n",
              "4   5  04-01-2023 15:29        316490             320904                11246   \n",
              "\n",
              "   ReactiveEnergyVARHN  LineVoltageVRY  LineVoltageVYB  LineVoltageVBR  \\\n",
              "0                 3933          425.06          422.52          424.33   \n",
              "1                 3933          424.99          423.06          426.06   \n",
              "2                 3933          426.45          423.31          425.62   \n",
              "3                 3933          425.15          423.42          424.50   \n",
              "4                 3933          425.08          423.30          425.46   \n",
              "\n",
              "   LineCurrentIR  ...  Frequency  RealPowerR  RealPowerY  RealPowerB  \\\n",
              "0         535.40  ...       49.9   131036.23   130423.04   134821.39   \n",
              "1         582.88  ...       49.9   142673.75   147033.33   133697.20   \n",
              "2         569.36  ...       49.9   139650.56   149481.55   141027.88   \n",
              "3         565.23  ...       49.9   137946.38   141937.78   130113.85   \n",
              "4         571.12  ...       49.9   139277.05   141621.52   142620.48   \n",
              "\n",
              "   ReactivePowerR  ReactivePowerY  ReactivePowerB  ApparentPowerR  \\\n",
              "0        11042.71       -13366.06         3150.58       130966.21   \n",
              "1            0.00       -16587.38         4989.10       142603.70   \n",
              "2         3070.37       -18906.73         6160.13       139650.56   \n",
              "3            0.00         3116.40         4380.16       137899.69   \n",
              "4       -15501.61         5798.88         6722.22       139895.69   \n",
              "\n",
              "   ApparentPowerY  ApparentPowerB  \n",
              "0       130879.87       134844.83  \n",
              "1       147689.31       133790.89  \n",
              "2       150371.80       141180.11  \n",
              "3       141926.08       130184.12  \n",
              "4       141726.94       142796.14  \n",
              "\n",
              "[5 rows x 29 columns]"
            ],
            "text/html": [
              "\n",
              "  <div id=\"df-be3bbb96-9b84-4498-827d-959a25224525\">\n",
              "    <div class=\"colab-df-container\">\n",
              "      <div>\n",
              "<style scoped>\n",
              "    .dataframe tbody tr th:only-of-type {\n",
              "        vertical-align: middle;\n",
              "    }\n",
              "\n",
              "    .dataframe tbody tr th {\n",
              "        vertical-align: top;\n",
              "    }\n",
              "\n",
              "    .dataframe thead th {\n",
              "        text-align: right;\n",
              "    }\n",
              "</style>\n",
              "<table border=\"1\" class=\"dataframe\">\n",
              "  <thead>\n",
              "    <tr style=\"text-align: right;\">\n",
              "      <th></th>\n",
              "      <th>ID</th>\n",
              "      <th>Datetime</th>\n",
              "      <th>RealEnergyWH</th>\n",
              "      <th>ApparentEnergyVAH</th>\n",
              "      <th>ReactiveEnergyVARHP</th>\n",
              "      <th>ReactiveEnergyVARHN</th>\n",
              "      <th>LineVoltageVRY</th>\n",
              "      <th>LineVoltageVYB</th>\n",
              "      <th>LineVoltageVBR</th>\n",
              "      <th>LineCurrentIR</th>\n",
              "      <th>...</th>\n",
              "      <th>Frequency</th>\n",
              "      <th>RealPowerR</th>\n",
              "      <th>RealPowerY</th>\n",
              "      <th>RealPowerB</th>\n",
              "      <th>ReactivePowerR</th>\n",
              "      <th>ReactivePowerY</th>\n",
              "      <th>ReactivePowerB</th>\n",
              "      <th>ApparentPowerR</th>\n",
              "      <th>ApparentPowerY</th>\n",
              "      <th>ApparentPowerB</th>\n",
              "    </tr>\n",
              "  </thead>\n",
              "  <tbody>\n",
              "    <tr>\n",
              "      <th>0</th>\n",
              "      <td>1</td>\n",
              "      <td>04-01-2023 15:25</td>\n",
              "      <td>316462</td>\n",
              "      <td>320876</td>\n",
              "      <td>11245</td>\n",
              "      <td>3933</td>\n",
              "      <td>425.06</td>\n",
              "      <td>422.52</td>\n",
              "      <td>424.33</td>\n",
              "      <td>535.40</td>\n",
              "      <td>...</td>\n",
              "      <td>49.9</td>\n",
              "      <td>131036.23</td>\n",
              "      <td>130423.04</td>\n",
              "      <td>134821.39</td>\n",
              "      <td>11042.71</td>\n",
              "      <td>-13366.06</td>\n",
              "      <td>3150.58</td>\n",
              "      <td>130966.21</td>\n",
              "      <td>130879.87</td>\n",
              "      <td>134844.83</td>\n",
              "    </tr>\n",
              "    <tr>\n",
              "      <th>1</th>\n",
              "      <td>2</td>\n",
              "      <td>04-01-2023 15:26</td>\n",
              "      <td>316469</td>\n",
              "      <td>320883</td>\n",
              "      <td>11246</td>\n",
              "      <td>3933</td>\n",
              "      <td>424.99</td>\n",
              "      <td>423.06</td>\n",
              "      <td>426.06</td>\n",
              "      <td>582.88</td>\n",
              "      <td>...</td>\n",
              "      <td>49.9</td>\n",
              "      <td>142673.75</td>\n",
              "      <td>147033.33</td>\n",
              "      <td>133697.20</td>\n",
              "      <td>0.00</td>\n",
              "      <td>-16587.38</td>\n",
              "      <td>4989.10</td>\n",
              "      <td>142603.70</td>\n",
              "      <td>147689.31</td>\n",
              "      <td>133790.89</td>\n",
              "    </tr>\n",
              "    <tr>\n",
              "      <th>2</th>\n",
              "      <td>3</td>\n",
              "      <td>04-01-2023 15:27</td>\n",
              "      <td>316476</td>\n",
              "      <td>320890</td>\n",
              "      <td>11246</td>\n",
              "      <td>3933</td>\n",
              "      <td>426.45</td>\n",
              "      <td>423.31</td>\n",
              "      <td>425.62</td>\n",
              "      <td>569.36</td>\n",
              "      <td>...</td>\n",
              "      <td>49.9</td>\n",
              "      <td>139650.56</td>\n",
              "      <td>149481.55</td>\n",
              "      <td>141027.88</td>\n",
              "      <td>3070.37</td>\n",
              "      <td>-18906.73</td>\n",
              "      <td>6160.13</td>\n",
              "      <td>139650.56</td>\n",
              "      <td>150371.80</td>\n",
              "      <td>141180.11</td>\n",
              "    </tr>\n",
              "    <tr>\n",
              "      <th>3</th>\n",
              "      <td>4</td>\n",
              "      <td>04-01-2023 15:28</td>\n",
              "      <td>316483</td>\n",
              "      <td>320897</td>\n",
              "      <td>11246</td>\n",
              "      <td>3933</td>\n",
              "      <td>425.15</td>\n",
              "      <td>423.42</td>\n",
              "      <td>424.50</td>\n",
              "      <td>565.23</td>\n",
              "      <td>...</td>\n",
              "      <td>49.9</td>\n",
              "      <td>137946.38</td>\n",
              "      <td>141937.78</td>\n",
              "      <td>130113.85</td>\n",
              "      <td>0.00</td>\n",
              "      <td>3116.40</td>\n",
              "      <td>4380.16</td>\n",
              "      <td>137899.69</td>\n",
              "      <td>141926.08</td>\n",
              "      <td>130184.12</td>\n",
              "    </tr>\n",
              "    <tr>\n",
              "      <th>4</th>\n",
              "      <td>5</td>\n",
              "      <td>04-01-2023 15:29</td>\n",
              "      <td>316490</td>\n",
              "      <td>320904</td>\n",
              "      <td>11246</td>\n",
              "      <td>3933</td>\n",
              "      <td>425.08</td>\n",
              "      <td>423.30</td>\n",
              "      <td>425.46</td>\n",
              "      <td>571.12</td>\n",
              "      <td>...</td>\n",
              "      <td>49.9</td>\n",
              "      <td>139277.05</td>\n",
              "      <td>141621.52</td>\n",
              "      <td>142620.48</td>\n",
              "      <td>-15501.61</td>\n",
              "      <td>5798.88</td>\n",
              "      <td>6722.22</td>\n",
              "      <td>139895.69</td>\n",
              "      <td>141726.94</td>\n",
              "      <td>142796.14</td>\n",
              "    </tr>\n",
              "  </tbody>\n",
              "</table>\n",
              "<p>5 rows × 29 columns</p>\n",
              "</div>\n",
              "      <button class=\"colab-df-convert\" onclick=\"convertToInteractive('df-be3bbb96-9b84-4498-827d-959a25224525')\"\n",
              "              title=\"Convert this dataframe to an interactive table.\"\n",
              "              style=\"display:none;\">\n",
              "        \n",
              "  <svg xmlns=\"http://www.w3.org/2000/svg\" height=\"24px\"viewBox=\"0 0 24 24\"\n",
              "       width=\"24px\">\n",
              "    <path d=\"M0 0h24v24H0V0z\" fill=\"none\"/>\n",
              "    <path d=\"M18.56 5.44l.94 2.06.94-2.06 2.06-.94-2.06-.94-.94-2.06-.94 2.06-2.06.94zm-11 1L8.5 8.5l.94-2.06 2.06-.94-2.06-.94L8.5 2.5l-.94 2.06-2.06.94zm10 10l.94 2.06.94-2.06 2.06-.94-2.06-.94-.94-2.06-.94 2.06-2.06.94z\"/><path d=\"M17.41 7.96l-1.37-1.37c-.4-.4-.92-.59-1.43-.59-.52 0-1.04.2-1.43.59L10.3 9.45l-7.72 7.72c-.78.78-.78 2.05 0 2.83L4 21.41c.39.39.9.59 1.41.59.51 0 1.02-.2 1.41-.59l7.78-7.78 2.81-2.81c.8-.78.8-2.07 0-2.86zM5.41 20L4 18.59l7.72-7.72 1.47 1.35L5.41 20z\"/>\n",
              "  </svg>\n",
              "      </button>\n",
              "      \n",
              "  <style>\n",
              "    .colab-df-container {\n",
              "      display:flex;\n",
              "      flex-wrap:wrap;\n",
              "      gap: 12px;\n",
              "    }\n",
              "\n",
              "    .colab-df-convert {\n",
              "      background-color: #E8F0FE;\n",
              "      border: none;\n",
              "      border-radius: 50%;\n",
              "      cursor: pointer;\n",
              "      display: none;\n",
              "      fill: #1967D2;\n",
              "      height: 32px;\n",
              "      padding: 0 0 0 0;\n",
              "      width: 32px;\n",
              "    }\n",
              "\n",
              "    .colab-df-convert:hover {\n",
              "      background-color: #E2EBFA;\n",
              "      box-shadow: 0px 1px 2px rgba(60, 64, 67, 0.3), 0px 1px 3px 1px rgba(60, 64, 67, 0.15);\n",
              "      fill: #174EA6;\n",
              "    }\n",
              "\n",
              "    [theme=dark] .colab-df-convert {\n",
              "      background-color: #3B4455;\n",
              "      fill: #D2E3FC;\n",
              "    }\n",
              "\n",
              "    [theme=dark] .colab-df-convert:hover {\n",
              "      background-color: #434B5C;\n",
              "      box-shadow: 0px 1px 3px 1px rgba(0, 0, 0, 0.15);\n",
              "      filter: drop-shadow(0px 1px 2px rgba(0, 0, 0, 0.3));\n",
              "      fill: #FFFFFF;\n",
              "    }\n",
              "  </style>\n",
              "\n",
              "      <script>\n",
              "        const buttonEl =\n",
              "          document.querySelector('#df-be3bbb96-9b84-4498-827d-959a25224525 button.colab-df-convert');\n",
              "        buttonEl.style.display =\n",
              "          google.colab.kernel.accessAllowed ? 'block' : 'none';\n",
              "\n",
              "        async function convertToInteractive(key) {\n",
              "          const element = document.querySelector('#df-be3bbb96-9b84-4498-827d-959a25224525');\n",
              "          const dataTable =\n",
              "            await google.colab.kernel.invokeFunction('convertToInteractive',\n",
              "                                                     [key], {});\n",
              "          if (!dataTable) return;\n",
              "\n",
              "          const docLinkHtml = 'Like what you see? Visit the ' +\n",
              "            '<a target=\"_blank\" href=https://colab.research.google.com/notebooks/data_table.ipynb>data table notebook</a>'\n",
              "            + ' to learn more about interactive tables.';\n",
              "          element.innerHTML = '';\n",
              "          dataTable['output_type'] = 'display_data';\n",
              "          await google.colab.output.renderOutput(dataTable, element);\n",
              "          const docLink = document.createElement('div');\n",
              "          docLink.innerHTML = docLinkHtml;\n",
              "          element.appendChild(docLink);\n",
              "        }\n",
              "      </script>\n",
              "    </div>\n",
              "  </div>\n",
              "  "
            ]
          },
          "metadata": {},
          "execution_count": 4
        }
      ]
    },
    {
      "cell_type": "code",
      "source": [
        "df1.drop(columns=['ID'],axis=1,inplace=True)"
      ],
      "metadata": {
        "id": "Gg-nPEQBz5-z"
      },
      "execution_count": null,
      "outputs": []
    },
    {
      "cell_type": "code",
      "source": [
        "df2.head()"
      ],
      "metadata": {
        "colab": {
          "base_uri": "https://localhost:8080/",
          "height": 402
        },
        "id": "QKDPengYz6DG",
        "outputId": "bcd2dd65-2f51-436e-83ea-16eacf4c6718"
      },
      "execution_count": null,
      "outputs": [
        {
          "output_type": "execute_result",
          "data": {
            "text/plain": [
              "           Datetime  RealEnergyWH  ApparentEnergyVAH  ReactiveEnergyVARHP  \\\n",
              "0  21-04-2023 12:52        963668             969454                27315   \n",
              "1  21-04-2023 12:59        963710             969496                27315   \n",
              "2  21-04-2023 13:09        963768             969554                27317   \n",
              "3  21-04-2023 13:12        963786             969572                27318   \n",
              "4  21-04-2023 13:13        963792             969578                27318   \n",
              "\n",
              "   ReactiveEnergyVARHN  LineVoltageVRY  LineVoltageVYB  LineVoltageVBR  \\\n",
              "0                10322          416.77          417.37          418.30   \n",
              "1                10322          419.13          417.86          419.36   \n",
              "2                10323          415.64          414.27          416.03   \n",
              "3                10323          415.64          413.81          415.87   \n",
              "4                10324          415.67          413.73          415.66   \n",
              "\n",
              "   LineCurrentIR  LineCurrentIY  ...  Frequency  RealPowerR  RealPowerY  \\\n",
              "0         493.08         493.10  ...       49.9   117869.63   117736.88   \n",
              "1         488.95         504.48  ...       49.9   117927.99   120899.63   \n",
              "2         422.38         486.38  ...       50.0   100594.30   115218.39   \n",
              "3         457.37         526.51  ...       50.0   109418.73   124320.09   \n",
              "4         476.36         594.47  ...       49.9   113935.99   140918.69   \n",
              "\n",
              "   RealPowerB  ReactivePowerR  ReactivePowerY  ReactivePowerB  ApparentPowerR  \\\n",
              "0   124223.56       -12163.27         5201.47         5832.24       118301.52   \n",
              "1   124059.62            0.00         4522.06         7588.79       117904.65   \n",
              "2   107126.50        -9140.09       -12405.52         3162.29       100851.10   \n",
              "3   123099.37            0.00       -15064.57         5832.24       109383.71   \n",
              "4   131975.78            0.00         4100.36         6406.04       113900.98   \n",
              "\n",
              "   ApparentPowerY  ApparentPowerB  \n",
              "0       117842.31       124375.80  \n",
              "1       120969.92       124328.95  \n",
              "2       115675.23       107173.34  \n",
              "3       124987.79       123251.60  \n",
              "4       140942.12       132151.44  \n",
              "\n",
              "[5 rows x 28 columns]"
            ],
            "text/html": [
              "\n",
              "  <div id=\"df-4812f553-0490-4002-b655-5e2684a00a32\">\n",
              "    <div class=\"colab-df-container\">\n",
              "      <div>\n",
              "<style scoped>\n",
              "    .dataframe tbody tr th:only-of-type {\n",
              "        vertical-align: middle;\n",
              "    }\n",
              "\n",
              "    .dataframe tbody tr th {\n",
              "        vertical-align: top;\n",
              "    }\n",
              "\n",
              "    .dataframe thead th {\n",
              "        text-align: right;\n",
              "    }\n",
              "</style>\n",
              "<table border=\"1\" class=\"dataframe\">\n",
              "  <thead>\n",
              "    <tr style=\"text-align: right;\">\n",
              "      <th></th>\n",
              "      <th>Datetime</th>\n",
              "      <th>RealEnergyWH</th>\n",
              "      <th>ApparentEnergyVAH</th>\n",
              "      <th>ReactiveEnergyVARHP</th>\n",
              "      <th>ReactiveEnergyVARHN</th>\n",
              "      <th>LineVoltageVRY</th>\n",
              "      <th>LineVoltageVYB</th>\n",
              "      <th>LineVoltageVBR</th>\n",
              "      <th>LineCurrentIR</th>\n",
              "      <th>LineCurrentIY</th>\n",
              "      <th>...</th>\n",
              "      <th>Frequency</th>\n",
              "      <th>RealPowerR</th>\n",
              "      <th>RealPowerY</th>\n",
              "      <th>RealPowerB</th>\n",
              "      <th>ReactivePowerR</th>\n",
              "      <th>ReactivePowerY</th>\n",
              "      <th>ReactivePowerB</th>\n",
              "      <th>ApparentPowerR</th>\n",
              "      <th>ApparentPowerY</th>\n",
              "      <th>ApparentPowerB</th>\n",
              "    </tr>\n",
              "  </thead>\n",
              "  <tbody>\n",
              "    <tr>\n",
              "      <th>0</th>\n",
              "      <td>21-04-2023 12:52</td>\n",
              "      <td>963668</td>\n",
              "      <td>969454</td>\n",
              "      <td>27315</td>\n",
              "      <td>10322</td>\n",
              "      <td>416.77</td>\n",
              "      <td>417.37</td>\n",
              "      <td>418.30</td>\n",
              "      <td>493.08</td>\n",
              "      <td>493.10</td>\n",
              "      <td>...</td>\n",
              "      <td>49.9</td>\n",
              "      <td>117869.63</td>\n",
              "      <td>117736.88</td>\n",
              "      <td>124223.56</td>\n",
              "      <td>-12163.27</td>\n",
              "      <td>5201.47</td>\n",
              "      <td>5832.24</td>\n",
              "      <td>118301.52</td>\n",
              "      <td>117842.31</td>\n",
              "      <td>124375.80</td>\n",
              "    </tr>\n",
              "    <tr>\n",
              "      <th>1</th>\n",
              "      <td>21-04-2023 12:59</td>\n",
              "      <td>963710</td>\n",
              "      <td>969496</td>\n",
              "      <td>27315</td>\n",
              "      <td>10322</td>\n",
              "      <td>419.13</td>\n",
              "      <td>417.86</td>\n",
              "      <td>419.36</td>\n",
              "      <td>488.95</td>\n",
              "      <td>504.48</td>\n",
              "      <td>...</td>\n",
              "      <td>49.9</td>\n",
              "      <td>117927.99</td>\n",
              "      <td>120899.63</td>\n",
              "      <td>124059.62</td>\n",
              "      <td>0.00</td>\n",
              "      <td>4522.06</td>\n",
              "      <td>7588.79</td>\n",
              "      <td>117904.65</td>\n",
              "      <td>120969.92</td>\n",
              "      <td>124328.95</td>\n",
              "    </tr>\n",
              "    <tr>\n",
              "      <th>2</th>\n",
              "      <td>21-04-2023 13:09</td>\n",
              "      <td>963768</td>\n",
              "      <td>969554</td>\n",
              "      <td>27317</td>\n",
              "      <td>10323</td>\n",
              "      <td>415.64</td>\n",
              "      <td>414.27</td>\n",
              "      <td>416.03</td>\n",
              "      <td>422.38</td>\n",
              "      <td>486.38</td>\n",
              "      <td>...</td>\n",
              "      <td>50.0</td>\n",
              "      <td>100594.30</td>\n",
              "      <td>115218.39</td>\n",
              "      <td>107126.50</td>\n",
              "      <td>-9140.09</td>\n",
              "      <td>-12405.52</td>\n",
              "      <td>3162.29</td>\n",
              "      <td>100851.10</td>\n",
              "      <td>115675.23</td>\n",
              "      <td>107173.34</td>\n",
              "    </tr>\n",
              "    <tr>\n",
              "      <th>3</th>\n",
              "      <td>21-04-2023 13:12</td>\n",
              "      <td>963786</td>\n",
              "      <td>969572</td>\n",
              "      <td>27318</td>\n",
              "      <td>10323</td>\n",
              "      <td>415.64</td>\n",
              "      <td>413.81</td>\n",
              "      <td>415.87</td>\n",
              "      <td>457.37</td>\n",
              "      <td>526.51</td>\n",
              "      <td>...</td>\n",
              "      <td>50.0</td>\n",
              "      <td>109418.73</td>\n",
              "      <td>124320.09</td>\n",
              "      <td>123099.37</td>\n",
              "      <td>0.00</td>\n",
              "      <td>-15064.57</td>\n",
              "      <td>5832.24</td>\n",
              "      <td>109383.71</td>\n",
              "      <td>124987.79</td>\n",
              "      <td>123251.60</td>\n",
              "    </tr>\n",
              "    <tr>\n",
              "      <th>4</th>\n",
              "      <td>21-04-2023 13:13</td>\n",
              "      <td>963792</td>\n",
              "      <td>969578</td>\n",
              "      <td>27318</td>\n",
              "      <td>10324</td>\n",
              "      <td>415.67</td>\n",
              "      <td>413.73</td>\n",
              "      <td>415.66</td>\n",
              "      <td>476.36</td>\n",
              "      <td>594.47</td>\n",
              "      <td>...</td>\n",
              "      <td>49.9</td>\n",
              "      <td>113935.99</td>\n",
              "      <td>140918.69</td>\n",
              "      <td>131975.78</td>\n",
              "      <td>0.00</td>\n",
              "      <td>4100.36</td>\n",
              "      <td>6406.04</td>\n",
              "      <td>113900.98</td>\n",
              "      <td>140942.12</td>\n",
              "      <td>132151.44</td>\n",
              "    </tr>\n",
              "  </tbody>\n",
              "</table>\n",
              "<p>5 rows × 28 columns</p>\n",
              "</div>\n",
              "      <button class=\"colab-df-convert\" onclick=\"convertToInteractive('df-4812f553-0490-4002-b655-5e2684a00a32')\"\n",
              "              title=\"Convert this dataframe to an interactive table.\"\n",
              "              style=\"display:none;\">\n",
              "        \n",
              "  <svg xmlns=\"http://www.w3.org/2000/svg\" height=\"24px\"viewBox=\"0 0 24 24\"\n",
              "       width=\"24px\">\n",
              "    <path d=\"M0 0h24v24H0V0z\" fill=\"none\"/>\n",
              "    <path d=\"M18.56 5.44l.94 2.06.94-2.06 2.06-.94-2.06-.94-.94-2.06-.94 2.06-2.06.94zm-11 1L8.5 8.5l.94-2.06 2.06-.94-2.06-.94L8.5 2.5l-.94 2.06-2.06.94zm10 10l.94 2.06.94-2.06 2.06-.94-2.06-.94-.94-2.06-.94 2.06-2.06.94z\"/><path d=\"M17.41 7.96l-1.37-1.37c-.4-.4-.92-.59-1.43-.59-.52 0-1.04.2-1.43.59L10.3 9.45l-7.72 7.72c-.78.78-.78 2.05 0 2.83L4 21.41c.39.39.9.59 1.41.59.51 0 1.02-.2 1.41-.59l7.78-7.78 2.81-2.81c.8-.78.8-2.07 0-2.86zM5.41 20L4 18.59l7.72-7.72 1.47 1.35L5.41 20z\"/>\n",
              "  </svg>\n",
              "      </button>\n",
              "      \n",
              "  <style>\n",
              "    .colab-df-container {\n",
              "      display:flex;\n",
              "      flex-wrap:wrap;\n",
              "      gap: 12px;\n",
              "    }\n",
              "\n",
              "    .colab-df-convert {\n",
              "      background-color: #E8F0FE;\n",
              "      border: none;\n",
              "      border-radius: 50%;\n",
              "      cursor: pointer;\n",
              "      display: none;\n",
              "      fill: #1967D2;\n",
              "      height: 32px;\n",
              "      padding: 0 0 0 0;\n",
              "      width: 32px;\n",
              "    }\n",
              "\n",
              "    .colab-df-convert:hover {\n",
              "      background-color: #E2EBFA;\n",
              "      box-shadow: 0px 1px 2px rgba(60, 64, 67, 0.3), 0px 1px 3px 1px rgba(60, 64, 67, 0.15);\n",
              "      fill: #174EA6;\n",
              "    }\n",
              "\n",
              "    [theme=dark] .colab-df-convert {\n",
              "      background-color: #3B4455;\n",
              "      fill: #D2E3FC;\n",
              "    }\n",
              "\n",
              "    [theme=dark] .colab-df-convert:hover {\n",
              "      background-color: #434B5C;\n",
              "      box-shadow: 0px 1px 3px 1px rgba(0, 0, 0, 0.15);\n",
              "      filter: drop-shadow(0px 1px 2px rgba(0, 0, 0, 0.3));\n",
              "      fill: #FFFFFF;\n",
              "    }\n",
              "  </style>\n",
              "\n",
              "      <script>\n",
              "        const buttonEl =\n",
              "          document.querySelector('#df-4812f553-0490-4002-b655-5e2684a00a32 button.colab-df-convert');\n",
              "        buttonEl.style.display =\n",
              "          google.colab.kernel.accessAllowed ? 'block' : 'none';\n",
              "\n",
              "        async function convertToInteractive(key) {\n",
              "          const element = document.querySelector('#df-4812f553-0490-4002-b655-5e2684a00a32');\n",
              "          const dataTable =\n",
              "            await google.colab.kernel.invokeFunction('convertToInteractive',\n",
              "                                                     [key], {});\n",
              "          if (!dataTable) return;\n",
              "\n",
              "          const docLinkHtml = 'Like what you see? Visit the ' +\n",
              "            '<a target=\"_blank\" href=https://colab.research.google.com/notebooks/data_table.ipynb>data table notebook</a>'\n",
              "            + ' to learn more about interactive tables.';\n",
              "          element.innerHTML = '';\n",
              "          dataTable['output_type'] = 'display_data';\n",
              "          await google.colab.output.renderOutput(dataTable, element);\n",
              "          const docLink = document.createElement('div');\n",
              "          docLink.innerHTML = docLinkHtml;\n",
              "          element.appendChild(docLink);\n",
              "        }\n",
              "      </script>\n",
              "    </div>\n",
              "  </div>\n",
              "  "
            ]
          },
          "metadata": {},
          "execution_count": 6
        }
      ]
    },
    {
      "cell_type": "code",
      "source": [
        "df = pd.concat([df1,df2], ignore_index=True)"
      ],
      "metadata": {
        "id": "GujIKoxFJ01j"
      },
      "execution_count": null,
      "outputs": []
    },
    {
      "cell_type": "code",
      "source": [
        "df"
      ],
      "metadata": {
        "colab": {
          "base_uri": "https://localhost:8080/",
          "height": 696
        },
        "id": "8MYX6T0xjcKC",
        "outputId": "c91e346f-c3d9-4fc6-fb8c-4a953190b3f7"
      },
      "execution_count": null,
      "outputs": [
        {
          "output_type": "execute_result",
          "data": {
            "text/plain": [
              "                Datetime  RealEnergyWH  ApparentEnergyVAH  \\\n",
              "0       04-01-2023 15:25        316462             320876   \n",
              "1       04-01-2023 15:26        316469             320883   \n",
              "2       04-01-2023 15:27        316476             320890   \n",
              "3       04-01-2023 15:28        316483             320897   \n",
              "4       04-01-2023 15:29        316490             320904   \n",
              "...                  ...           ...                ...   \n",
              "156979  30-04-2023 23:55         27557              27622   \n",
              "156980  30-04-2023 23:56         27560              27625   \n",
              "156981  30-04-2023 23:57         27562              27627   \n",
              "156982  30-04-2023 23:58         27565              27630   \n",
              "156983  30-04-2023 23:59         27567              27632   \n",
              "\n",
              "        ReactiveEnergyVARHP  ReactiveEnergyVARHN  LineVoltageVRY  \\\n",
              "0                     11245                 3933          425.06   \n",
              "1                     11246                 3933          424.99   \n",
              "2                     11246                 3933          426.45   \n",
              "3                     11246                 3933          425.15   \n",
              "4                     11246                 3933          425.08   \n",
              "...                     ...                  ...             ...   \n",
              "156979                  721                  313          430.52   \n",
              "156980                  721                  313          429.10   \n",
              "156981                  721                  313          430.63   \n",
              "156982                  721                  313          423.49   \n",
              "156983                  721                  313          423.88   \n",
              "\n",
              "        LineVoltageVYB  LineVoltageVBR  LineCurrentIR  LineCurrentIY  ...  \\\n",
              "0               422.52          424.33         535.40         539.54  ...   \n",
              "1               423.06          426.06         582.88         609.06  ...   \n",
              "2               423.31          425.62         569.36         618.99  ...   \n",
              "3               423.42          424.50         565.23         583.61  ...   \n",
              "4               423.30          425.46         571.12         584.64  ...   \n",
              "...                ...             ...            ...            ...  ...   \n",
              "156979          428.51          431.69         239.27         197.78  ...   \n",
              "156980          428.47          430.27         250.41         197.68  ...   \n",
              "156981          429.58          431.64         251.65         198.09  ...   \n",
              "156982          422.81          423.94         237.62         196.64  ...   \n",
              "156983          423.03          424.40         245.25         201.19  ...   \n",
              "\n",
              "        Frequency  RealPowerR  RealPowerY  RealPowerB  ReactivePowerR  \\\n",
              "0            49.9   131036.23   130423.04   134821.39        11042.71   \n",
              "1            49.9   142673.75   147033.33   133697.20            0.00   \n",
              "2            49.9   139650.56   149481.55   141027.88         3070.37   \n",
              "3            49.9   137946.38   141937.78   130113.85            0.00   \n",
              "4            49.9   139277.05   141621.52   142620.48       -15501.61   \n",
              "...           ...         ...         ...         ...             ...   \n",
              "156979       49.9    59238.55    48402.32    43668.28         2708.53   \n",
              "156980       49.9    61678.11    48332.04    43633.15         3210.44   \n",
              "156981       50.0    62238.39    48554.61    45869.82         3082.05   \n",
              "156982       50.0    57744.47    47535.50    44757.34            0.00   \n",
              "156983       50.0    59635.42    48671.74    44640.23         2580.13   \n",
              "\n",
              "        ReactivePowerY  ReactivePowerB  ApparentPowerR  ApparentPowerY  \\\n",
              "0            -13366.06         3150.58       130966.21       130879.87   \n",
              "1            -16587.38         4989.10       142603.70       147689.31   \n",
              "2            -18906.73         6160.13       139650.56       150371.80   \n",
              "3              3116.40         4380.16       137899.69       141926.08   \n",
              "4              5798.88         6722.22       139895.69       141726.94   \n",
              "...                ...             ...             ...             ...   \n",
              "156979         4276.07         2670.45        59296.91        48613.17   \n",
              "156980         4369.78         2424.54        61771.49        48554.61   \n",
              "156981         4533.78            0.00        62320.10        48788.88   \n",
              "156982         3994.94            0.00        57779.49        47722.92   \n",
              "156983         4018.37            0.00        59693.79        48859.17   \n",
              "\n",
              "        ApparentPowerB  \n",
              "0            134844.83  \n",
              "1            133790.89  \n",
              "2            141180.11  \n",
              "3            130184.12  \n",
              "4            142796.14  \n",
              "...                ...  \n",
              "156979        43761.96  \n",
              "156980        43715.12  \n",
              "156981        45940.08  \n",
              "156982        44804.18  \n",
              "156983        44698.79  \n",
              "\n",
              "[156984 rows x 28 columns]"
            ],
            "text/html": [
              "\n",
              "  <div id=\"df-060e22e3-fac1-487a-bc60-ef807fc3e4df\">\n",
              "    <div class=\"colab-df-container\">\n",
              "      <div>\n",
              "<style scoped>\n",
              "    .dataframe tbody tr th:only-of-type {\n",
              "        vertical-align: middle;\n",
              "    }\n",
              "\n",
              "    .dataframe tbody tr th {\n",
              "        vertical-align: top;\n",
              "    }\n",
              "\n",
              "    .dataframe thead th {\n",
              "        text-align: right;\n",
              "    }\n",
              "</style>\n",
              "<table border=\"1\" class=\"dataframe\">\n",
              "  <thead>\n",
              "    <tr style=\"text-align: right;\">\n",
              "      <th></th>\n",
              "      <th>Datetime</th>\n",
              "      <th>RealEnergyWH</th>\n",
              "      <th>ApparentEnergyVAH</th>\n",
              "      <th>ReactiveEnergyVARHP</th>\n",
              "      <th>ReactiveEnergyVARHN</th>\n",
              "      <th>LineVoltageVRY</th>\n",
              "      <th>LineVoltageVYB</th>\n",
              "      <th>LineVoltageVBR</th>\n",
              "      <th>LineCurrentIR</th>\n",
              "      <th>LineCurrentIY</th>\n",
              "      <th>...</th>\n",
              "      <th>Frequency</th>\n",
              "      <th>RealPowerR</th>\n",
              "      <th>RealPowerY</th>\n",
              "      <th>RealPowerB</th>\n",
              "      <th>ReactivePowerR</th>\n",
              "      <th>ReactivePowerY</th>\n",
              "      <th>ReactivePowerB</th>\n",
              "      <th>ApparentPowerR</th>\n",
              "      <th>ApparentPowerY</th>\n",
              "      <th>ApparentPowerB</th>\n",
              "    </tr>\n",
              "  </thead>\n",
              "  <tbody>\n",
              "    <tr>\n",
              "      <th>0</th>\n",
              "      <td>04-01-2023 15:25</td>\n",
              "      <td>316462</td>\n",
              "      <td>320876</td>\n",
              "      <td>11245</td>\n",
              "      <td>3933</td>\n",
              "      <td>425.06</td>\n",
              "      <td>422.52</td>\n",
              "      <td>424.33</td>\n",
              "      <td>535.40</td>\n",
              "      <td>539.54</td>\n",
              "      <td>...</td>\n",
              "      <td>49.9</td>\n",
              "      <td>131036.23</td>\n",
              "      <td>130423.04</td>\n",
              "      <td>134821.39</td>\n",
              "      <td>11042.71</td>\n",
              "      <td>-13366.06</td>\n",
              "      <td>3150.58</td>\n",
              "      <td>130966.21</td>\n",
              "      <td>130879.87</td>\n",
              "      <td>134844.83</td>\n",
              "    </tr>\n",
              "    <tr>\n",
              "      <th>1</th>\n",
              "      <td>04-01-2023 15:26</td>\n",
              "      <td>316469</td>\n",
              "      <td>320883</td>\n",
              "      <td>11246</td>\n",
              "      <td>3933</td>\n",
              "      <td>424.99</td>\n",
              "      <td>423.06</td>\n",
              "      <td>426.06</td>\n",
              "      <td>582.88</td>\n",
              "      <td>609.06</td>\n",
              "      <td>...</td>\n",
              "      <td>49.9</td>\n",
              "      <td>142673.75</td>\n",
              "      <td>147033.33</td>\n",
              "      <td>133697.20</td>\n",
              "      <td>0.00</td>\n",
              "      <td>-16587.38</td>\n",
              "      <td>4989.10</td>\n",
              "      <td>142603.70</td>\n",
              "      <td>147689.31</td>\n",
              "      <td>133790.89</td>\n",
              "    </tr>\n",
              "    <tr>\n",
              "      <th>2</th>\n",
              "      <td>04-01-2023 15:27</td>\n",
              "      <td>316476</td>\n",
              "      <td>320890</td>\n",
              "      <td>11246</td>\n",
              "      <td>3933</td>\n",
              "      <td>426.45</td>\n",
              "      <td>423.31</td>\n",
              "      <td>425.62</td>\n",
              "      <td>569.36</td>\n",
              "      <td>618.99</td>\n",
              "      <td>...</td>\n",
              "      <td>49.9</td>\n",
              "      <td>139650.56</td>\n",
              "      <td>149481.55</td>\n",
              "      <td>141027.88</td>\n",
              "      <td>3070.37</td>\n",
              "      <td>-18906.73</td>\n",
              "      <td>6160.13</td>\n",
              "      <td>139650.56</td>\n",
              "      <td>150371.80</td>\n",
              "      <td>141180.11</td>\n",
              "    </tr>\n",
              "    <tr>\n",
              "      <th>3</th>\n",
              "      <td>04-01-2023 15:28</td>\n",
              "      <td>316483</td>\n",
              "      <td>320897</td>\n",
              "      <td>11246</td>\n",
              "      <td>3933</td>\n",
              "      <td>425.15</td>\n",
              "      <td>423.42</td>\n",
              "      <td>424.50</td>\n",
              "      <td>565.23</td>\n",
              "      <td>583.61</td>\n",
              "      <td>...</td>\n",
              "      <td>49.9</td>\n",
              "      <td>137946.38</td>\n",
              "      <td>141937.78</td>\n",
              "      <td>130113.85</td>\n",
              "      <td>0.00</td>\n",
              "      <td>3116.40</td>\n",
              "      <td>4380.16</td>\n",
              "      <td>137899.69</td>\n",
              "      <td>141926.08</td>\n",
              "      <td>130184.12</td>\n",
              "    </tr>\n",
              "    <tr>\n",
              "      <th>4</th>\n",
              "      <td>04-01-2023 15:29</td>\n",
              "      <td>316490</td>\n",
              "      <td>320904</td>\n",
              "      <td>11246</td>\n",
              "      <td>3933</td>\n",
              "      <td>425.08</td>\n",
              "      <td>423.30</td>\n",
              "      <td>425.46</td>\n",
              "      <td>571.12</td>\n",
              "      <td>584.64</td>\n",
              "      <td>...</td>\n",
              "      <td>49.9</td>\n",
              "      <td>139277.05</td>\n",
              "      <td>141621.52</td>\n",
              "      <td>142620.48</td>\n",
              "      <td>-15501.61</td>\n",
              "      <td>5798.88</td>\n",
              "      <td>6722.22</td>\n",
              "      <td>139895.69</td>\n",
              "      <td>141726.94</td>\n",
              "      <td>142796.14</td>\n",
              "    </tr>\n",
              "    <tr>\n",
              "      <th>...</th>\n",
              "      <td>...</td>\n",
              "      <td>...</td>\n",
              "      <td>...</td>\n",
              "      <td>...</td>\n",
              "      <td>...</td>\n",
              "      <td>...</td>\n",
              "      <td>...</td>\n",
              "      <td>...</td>\n",
              "      <td>...</td>\n",
              "      <td>...</td>\n",
              "      <td>...</td>\n",
              "      <td>...</td>\n",
              "      <td>...</td>\n",
              "      <td>...</td>\n",
              "      <td>...</td>\n",
              "      <td>...</td>\n",
              "      <td>...</td>\n",
              "      <td>...</td>\n",
              "      <td>...</td>\n",
              "      <td>...</td>\n",
              "      <td>...</td>\n",
              "    </tr>\n",
              "    <tr>\n",
              "      <th>156979</th>\n",
              "      <td>30-04-2023 23:55</td>\n",
              "      <td>27557</td>\n",
              "      <td>27622</td>\n",
              "      <td>721</td>\n",
              "      <td>313</td>\n",
              "      <td>430.52</td>\n",
              "      <td>428.51</td>\n",
              "      <td>431.69</td>\n",
              "      <td>239.27</td>\n",
              "      <td>197.78</td>\n",
              "      <td>...</td>\n",
              "      <td>49.9</td>\n",
              "      <td>59238.55</td>\n",
              "      <td>48402.32</td>\n",
              "      <td>43668.28</td>\n",
              "      <td>2708.53</td>\n",
              "      <td>4276.07</td>\n",
              "      <td>2670.45</td>\n",
              "      <td>59296.91</td>\n",
              "      <td>48613.17</td>\n",
              "      <td>43761.96</td>\n",
              "    </tr>\n",
              "    <tr>\n",
              "      <th>156980</th>\n",
              "      <td>30-04-2023 23:56</td>\n",
              "      <td>27560</td>\n",
              "      <td>27625</td>\n",
              "      <td>721</td>\n",
              "      <td>313</td>\n",
              "      <td>429.10</td>\n",
              "      <td>428.47</td>\n",
              "      <td>430.27</td>\n",
              "      <td>250.41</td>\n",
              "      <td>197.68</td>\n",
              "      <td>...</td>\n",
              "      <td>49.9</td>\n",
              "      <td>61678.11</td>\n",
              "      <td>48332.04</td>\n",
              "      <td>43633.15</td>\n",
              "      <td>3210.44</td>\n",
              "      <td>4369.78</td>\n",
              "      <td>2424.54</td>\n",
              "      <td>61771.49</td>\n",
              "      <td>48554.61</td>\n",
              "      <td>43715.12</td>\n",
              "    </tr>\n",
              "    <tr>\n",
              "      <th>156981</th>\n",
              "      <td>30-04-2023 23:57</td>\n",
              "      <td>27562</td>\n",
              "      <td>27627</td>\n",
              "      <td>721</td>\n",
              "      <td>313</td>\n",
              "      <td>430.63</td>\n",
              "      <td>429.58</td>\n",
              "      <td>431.64</td>\n",
              "      <td>251.65</td>\n",
              "      <td>198.09</td>\n",
              "      <td>...</td>\n",
              "      <td>50.0</td>\n",
              "      <td>62238.39</td>\n",
              "      <td>48554.61</td>\n",
              "      <td>45869.82</td>\n",
              "      <td>3082.05</td>\n",
              "      <td>4533.78</td>\n",
              "      <td>0.00</td>\n",
              "      <td>62320.10</td>\n",
              "      <td>48788.88</td>\n",
              "      <td>45940.08</td>\n",
              "    </tr>\n",
              "    <tr>\n",
              "      <th>156982</th>\n",
              "      <td>30-04-2023 23:58</td>\n",
              "      <td>27565</td>\n",
              "      <td>27630</td>\n",
              "      <td>721</td>\n",
              "      <td>313</td>\n",
              "      <td>423.49</td>\n",
              "      <td>422.81</td>\n",
              "      <td>423.94</td>\n",
              "      <td>237.62</td>\n",
              "      <td>196.64</td>\n",
              "      <td>...</td>\n",
              "      <td>50.0</td>\n",
              "      <td>57744.47</td>\n",
              "      <td>47535.50</td>\n",
              "      <td>44757.34</td>\n",
              "      <td>0.00</td>\n",
              "      <td>3994.94</td>\n",
              "      <td>0.00</td>\n",
              "      <td>57779.49</td>\n",
              "      <td>47722.92</td>\n",
              "      <td>44804.18</td>\n",
              "    </tr>\n",
              "    <tr>\n",
              "      <th>156983</th>\n",
              "      <td>30-04-2023 23:59</td>\n",
              "      <td>27567</td>\n",
              "      <td>27632</td>\n",
              "      <td>721</td>\n",
              "      <td>313</td>\n",
              "      <td>423.88</td>\n",
              "      <td>423.03</td>\n",
              "      <td>424.40</td>\n",
              "      <td>245.25</td>\n",
              "      <td>201.19</td>\n",
              "      <td>...</td>\n",
              "      <td>50.0</td>\n",
              "      <td>59635.42</td>\n",
              "      <td>48671.74</td>\n",
              "      <td>44640.23</td>\n",
              "      <td>2580.13</td>\n",
              "      <td>4018.37</td>\n",
              "      <td>0.00</td>\n",
              "      <td>59693.79</td>\n",
              "      <td>48859.17</td>\n",
              "      <td>44698.79</td>\n",
              "    </tr>\n",
              "  </tbody>\n",
              "</table>\n",
              "<p>156984 rows × 28 columns</p>\n",
              "</div>\n",
              "      <button class=\"colab-df-convert\" onclick=\"convertToInteractive('df-060e22e3-fac1-487a-bc60-ef807fc3e4df')\"\n",
              "              title=\"Convert this dataframe to an interactive table.\"\n",
              "              style=\"display:none;\">\n",
              "        \n",
              "  <svg xmlns=\"http://www.w3.org/2000/svg\" height=\"24px\"viewBox=\"0 0 24 24\"\n",
              "       width=\"24px\">\n",
              "    <path d=\"M0 0h24v24H0V0z\" fill=\"none\"/>\n",
              "    <path d=\"M18.56 5.44l.94 2.06.94-2.06 2.06-.94-2.06-.94-.94-2.06-.94 2.06-2.06.94zm-11 1L8.5 8.5l.94-2.06 2.06-.94-2.06-.94L8.5 2.5l-.94 2.06-2.06.94zm10 10l.94 2.06.94-2.06 2.06-.94-2.06-.94-.94-2.06-.94 2.06-2.06.94z\"/><path d=\"M17.41 7.96l-1.37-1.37c-.4-.4-.92-.59-1.43-.59-.52 0-1.04.2-1.43.59L10.3 9.45l-7.72 7.72c-.78.78-.78 2.05 0 2.83L4 21.41c.39.39.9.59 1.41.59.51 0 1.02-.2 1.41-.59l7.78-7.78 2.81-2.81c.8-.78.8-2.07 0-2.86zM5.41 20L4 18.59l7.72-7.72 1.47 1.35L5.41 20z\"/>\n",
              "  </svg>\n",
              "      </button>\n",
              "      \n",
              "  <style>\n",
              "    .colab-df-container {\n",
              "      display:flex;\n",
              "      flex-wrap:wrap;\n",
              "      gap: 12px;\n",
              "    }\n",
              "\n",
              "    .colab-df-convert {\n",
              "      background-color: #E8F0FE;\n",
              "      border: none;\n",
              "      border-radius: 50%;\n",
              "      cursor: pointer;\n",
              "      display: none;\n",
              "      fill: #1967D2;\n",
              "      height: 32px;\n",
              "      padding: 0 0 0 0;\n",
              "      width: 32px;\n",
              "    }\n",
              "\n",
              "    .colab-df-convert:hover {\n",
              "      background-color: #E2EBFA;\n",
              "      box-shadow: 0px 1px 2px rgba(60, 64, 67, 0.3), 0px 1px 3px 1px rgba(60, 64, 67, 0.15);\n",
              "      fill: #174EA6;\n",
              "    }\n",
              "\n",
              "    [theme=dark] .colab-df-convert {\n",
              "      background-color: #3B4455;\n",
              "      fill: #D2E3FC;\n",
              "    }\n",
              "\n",
              "    [theme=dark] .colab-df-convert:hover {\n",
              "      background-color: #434B5C;\n",
              "      box-shadow: 0px 1px 3px 1px rgba(0, 0, 0, 0.15);\n",
              "      filter: drop-shadow(0px 1px 2px rgba(0, 0, 0, 0.3));\n",
              "      fill: #FFFFFF;\n",
              "    }\n",
              "  </style>\n",
              "\n",
              "      <script>\n",
              "        const buttonEl =\n",
              "          document.querySelector('#df-060e22e3-fac1-487a-bc60-ef807fc3e4df button.colab-df-convert');\n",
              "        buttonEl.style.display =\n",
              "          google.colab.kernel.accessAllowed ? 'block' : 'none';\n",
              "\n",
              "        async function convertToInteractive(key) {\n",
              "          const element = document.querySelector('#df-060e22e3-fac1-487a-bc60-ef807fc3e4df');\n",
              "          const dataTable =\n",
              "            await google.colab.kernel.invokeFunction('convertToInteractive',\n",
              "                                                     [key], {});\n",
              "          if (!dataTable) return;\n",
              "\n",
              "          const docLinkHtml = 'Like what you see? Visit the ' +\n",
              "            '<a target=\"_blank\" href=https://colab.research.google.com/notebooks/data_table.ipynb>data table notebook</a>'\n",
              "            + ' to learn more about interactive tables.';\n",
              "          element.innerHTML = '';\n",
              "          dataTable['output_type'] = 'display_data';\n",
              "          await google.colab.output.renderOutput(dataTable, element);\n",
              "          const docLink = document.createElement('div');\n",
              "          docLink.innerHTML = docLinkHtml;\n",
              "          element.appendChild(docLink);\n",
              "        }\n",
              "      </script>\n",
              "    </div>\n",
              "  </div>\n",
              "  "
            ]
          },
          "metadata": {},
          "execution_count": 8
        }
      ]
    },
    {
      "cell_type": "code",
      "source": [
        "df['Year'] = pd.to_datetime(df['Datetime']).dt.year\n",
        "df['Month'] = pd.to_datetime(df['Datetime']).dt.month\n",
        "df['Day'] = pd.to_datetime(df['Datetime']).dt.day\n",
        "df['Hour'] = pd.to_datetime(df['Datetime']).dt.hour\n",
        "df['Mins'] = pd.to_datetime(df['Datetime']).dt.minute"
      ],
      "metadata": {
        "id": "vOlOW8YFjcu0"
      },
      "execution_count": null,
      "outputs": []
    },
    {
      "cell_type": "code",
      "source": [
        "df.drop(columns=['Datetime'],axis=1,inplace=True)"
      ],
      "metadata": {
        "id": "Qgy97WOqjovy"
      },
      "execution_count": null,
      "outputs": []
    },
    {
      "cell_type": "code",
      "source": [
        "df.corr()['ReactivePower'].sort_values()"
      ],
      "metadata": {
        "colab": {
          "base_uri": "https://localhost:8080/"
        },
        "id": "AFr3FpKH0mvU",
        "outputId": "33858c62-4c74-4fd6-9ceb-7de7b849592a"
      },
      "execution_count": null,
      "outputs": [
        {
          "output_type": "execute_result",
          "data": {
            "text/plain": [
              "ApparentPowerR        -0.257727\n",
              "LineCurrentIR         -0.257631\n",
              "RealPowerR            -0.256866\n",
              "ApparentPower         -0.253682\n",
              "RealPower             -0.252956\n",
              "LineCurrentIY         -0.251634\n",
              "ApparentPowerY        -0.251288\n",
              "RealPowerY            -0.249993\n",
              "RealPowerB            -0.246998\n",
              "ApparentPowerB        -0.246976\n",
              "LineCurrentIB         -0.246515\n",
              "Hour                  -0.065587\n",
              "RealEnergyWH          -0.023819\n",
              "ApparentEnergyVAH     -0.023727\n",
              "ReactiveEnergyVARHN   -0.021269\n",
              "ReactiveEnergyVARHP   -0.020640\n",
              "Day                   -0.016141\n",
              "Mins                   0.006519\n",
              "Frequency              0.013209\n",
              "Month                  0.015722\n",
              "PhaseVoltageVBN        0.029172\n",
              "LineVoltageVYB         0.029576\n",
              "PhaseVoltageVYN        0.029860\n",
              "LineVoltageVBR         0.030389\n",
              "LineVoltageVRY         0.030801\n",
              "PhaseVoltageVRN        0.031818\n",
              "ReactivePowerB         0.451740\n",
              "ReactivePowerR         0.473611\n",
              "ReactivePowerY         0.597572\n",
              "PowerFactor            0.887221\n",
              "ReactivePower          1.000000\n",
              "Year                        NaN\n",
              "Name: ReactivePower, dtype: float64"
            ]
          },
          "metadata": {},
          "execution_count": 11
        }
      ]
    },
    {
      "cell_type": "code",
      "source": [
        "df['Month'].unique()"
      ],
      "metadata": {
        "colab": {
          "base_uri": "https://localhost:8080/"
        },
        "id": "E7TdzzpFlU06",
        "outputId": "2f2fee6b-444c-4b1f-c451-1f735217bc1b"
      },
      "execution_count": null,
      "outputs": [
        {
          "output_type": "execute_result",
          "data": {
            "text/plain": [
              "array([ 4,  5,  6,  7,  8,  9, 10, 11, 12,  1,  2,  3])"
            ]
          },
          "metadata": {},
          "execution_count": 12
        }
      ]
    },
    {
      "cell_type": "code",
      "source": [
        "df.corr()['ReactivePower'].sort_values()[:-2].plot(kind='bar')"
      ],
      "metadata": {
        "colab": {
          "base_uri": "https://localhost:8080/",
          "height": 587
        },
        "id": "B42RIXqPkoe1",
        "outputId": "67946863-2c3a-4fe8-f0c3-1854dfde05ae"
      },
      "execution_count": null,
      "outputs": [
        {
          "output_type": "execute_result",
          "data": {
            "text/plain": [
              "<Axes: >"
            ]
          },
          "metadata": {},
          "execution_count": 13
        },
        {
          "output_type": "display_data",
          "data": {
            "text/plain": [
              "<Figure size 640x480 with 1 Axes>"
            ],
            "image/png": "[encoded data removed]"
          },
          "metadata": {}
        }
      ]
    },
    {
      "cell_type": "code",
      "source": [
        "df.isnull().sum()"
      ],
      "metadata": {
        "colab": {
          "base_uri": "https://localhost:8080/"
        },
        "id": "RT7re1dckXke",
        "outputId": "39fcf1c8-ce17-420f-b734-221a6911539d"
      },
      "execution_count": null,
      "outputs": [
        {
          "output_type": "execute_result",
          "data": {
            "text/plain": [
              "RealEnergyWH           0\n",
              "ApparentEnergyVAH      0\n",
              "ReactiveEnergyVARHP    0\n",
              "ReactiveEnergyVARHN    0\n",
              "LineVoltageVRY         0\n",
              "LineVoltageVYB         0\n",
              "LineVoltageVBR         0\n",
              "LineCurrentIR          0\n",
              "LineCurrentIY          0\n",
              "LineCurrentIB          0\n",
              "RealPower              0\n",
              "ReactivePower          0\n",
              "ApparentPower          0\n",
              "PhaseVoltageVRN        0\n",
              "PhaseVoltageVYN        0\n",
              "PhaseVoltageVBN        0\n",
              "PowerFactor            0\n",
              "Frequency              0\n",
              "RealPowerR             0\n",
              "RealPowerY             0\n",
              "RealPowerB             0\n",
              "ReactivePowerR         0\n",
              "ReactivePowerY         0\n",
              "ReactivePowerB         0\n",
              "ApparentPowerR         0\n",
              "ApparentPowerY         0\n",
              "ApparentPowerB         0\n",
              "Year                   0\n",
              "Month                  0\n",
              "Day                    0\n",
              "Hour                   0\n",
              "Mins                   0\n",
              "dtype: int64"
            ]
          },
          "metadata": {},
          "execution_count": 14
        }
      ]
    },
    {
      "cell_type": "code",
      "source": [
        "df.drop(columns=['ReactivePowerR','ReactivePowerY','ReactivePowerB'],axis=1,inplace=True)"
      ],
      "metadata": {
        "id": "RlGTTUct1Ht6"
      },
      "execution_count": null,
      "outputs": []
    },
    {
      "cell_type": "code",
      "source": [
        "df.columns"
      ],
      "metadata": {
        "colab": {
          "base_uri": "https://localhost:8080/"
        },
        "id": "-brvniHB1fkW",
        "outputId": "c9b84f16-f478-4884-92af-fb2a15dcbf2c"
      },
      "execution_count": null,
      "outputs": [
        {
          "output_type": "execute_result",
          "data": {
            "text/plain": [
              "Index(['RealEnergyWH', 'ApparentEnergyVAH', 'ReactiveEnergyVARHP',\n",
              "       'ReactiveEnergyVARHN', 'LineVoltageVRY', 'LineVoltageVYB',\n",
              "       'LineVoltageVBR', 'LineCurrentIR', 'LineCurrentIY', 'LineCurrentIB',\n",
              "       'RealPower', 'ReactivePower', 'ApparentPower', 'PhaseVoltageVRN',\n",
              "       'PhaseVoltageVYN', 'PhaseVoltageVBN', 'PowerFactor', 'Frequency',\n",
              "       'RealPowerR', 'RealPowerY', 'RealPowerB', 'ApparentPowerR',\n",
              "       'ApparentPowerY', 'ApparentPowerB', 'Year', 'Month', 'Day', 'Hour',\n",
              "       'Mins'],\n",
              "      dtype='object')"
            ]
          },
          "metadata": {},
          "execution_count": 16
        }
      ]
    },
    {
      "cell_type": "code",
      "source": [
        "X = df.drop(columns=['ReactivePower'],axis=1)\n",
        "\n",
        "y = df['ReactivePower']"
      ],
      "metadata": {
        "id": "MVvRi3oE1gr7"
      },
      "execution_count": null,
      "outputs": []
    },
    {
      "cell_type": "code",
      "source": [
        "from sklearn.model_selection import train_test_split"
      ],
      "metadata": {
        "id": "tCjp47_v2OrC"
      },
      "execution_count": null,
      "outputs": []
    },
    {
      "cell_type": "code",
      "source": [
        "X_train, X_test, y_train, y_test = train_test_split(X, y, test_size=0.33, random_state=42)"
      ],
      "metadata": {
        "id": "MhEtAJhM2TBi"
      },
      "execution_count": null,
      "outputs": []
    },
    {
      "cell_type": "code",
      "source": [
        "from sklearn.preprocessing import MinMaxScaler"
      ],
      "metadata": {
        "id": "Lz43eOuI2Zn3"
      },
      "execution_count": null,
      "outputs": []
    },
    {
      "cell_type": "code",
      "source": [
        "scaler = MinMaxScaler()"
      ],
      "metadata": {
        "id": "TQJgT-872gdn"
      },
      "execution_count": null,
      "outputs": []
    },
    {
      "cell_type": "code",
      "source": [
        "X_train = scaler.fit_transform(X_train)"
      ],
      "metadata": {
        "id": "ahd0V3B12jdD"
      },
      "execution_count": null,
      "outputs": []
    },
    {
      "cell_type": "code",
      "source": [
        "X_test = scaler.transform(X_test)"
      ],
      "metadata": {
        "id": "RQPSdmxa2oDW"
      },
      "execution_count": null,
      "outputs": []
    },
    {
      "cell_type": "code",
      "source": [
        "from sklearn.linear_model import LinearRegression"
      ],
      "metadata": {
        "id": "n7w86c5U2rCg"
      },
      "execution_count": null,
      "outputs": []
    },
    {
      "cell_type": "code",
      "source": [
        "model = LinearRegression()"
      ],
      "metadata": {
        "id": "bFPj6NJI2x-d"
      },
      "execution_count": null,
      "outputs": []
    },
    {
      "cell_type": "code",
      "source": [
        "model.fit(X_train,y_train)"
      ],
      "metadata": {
        "colab": {
          "base_uri": "https://localhost:8080/",
          "height": 64
        },
        "id": "Wb6sqijx20tE",
        "outputId": "2c717950-8b51-4ae9-cad3-1e5b1ebaca52"
      },
      "execution_count": null,
      "outputs": [
        {
          "output_type": "execute_result",
          "data": {
            "text/plain": [
              "LinearRegression()"
            ],
            "text/html": [
              "<style>#sk-container-id-1 {color: black;background-color: white;}#sk-container-id-1 pre{padding: 0;}#sk-container-id-1 div.sk-toggleable {background-color: white;}#sk-container-id-1 label.sk-toggleable__label {cursor: pointer;display: block;width: 100%;margin-bottom: 0;padding: 0.3em;box-sizing: border-box;text-align: center;}#sk-container-id-1 label.sk-toggleable__label-arrow:before {content: \"▸\";float: left;margin-right: 0.25em;color: #696969;}#sk-container-id-1 label.sk-toggleable__label-arrow:hover:before {color: black;}#sk-container-id-1 div.sk-estimator:hover label.sk-toggleable__label-arrow:before {color: black;}#sk-container-id-1 div.sk-toggleable__content {max-height: 0;max-width: 0;overflow: hidden;text-align: left;background-color: #f0f8ff;}#sk-container-id-1 div.sk-toggleable__content pre {margin: 0.2em;color: black;border-radius: 0.25em;background-color: #f0f8ff;}#sk-container-id-1 input.sk-toggleable__control:checked~div.sk-toggleable__content {max-height: 200px;max-width: 100%;overflow: auto;}#sk-container-id-1 input.sk-toggleable__control:checked~label.sk-toggleable__label-arrow:before {content: \"▾\";}#sk-container-id-1 div.sk-estimator input.sk-toggleable__control:checked~label.sk-toggleable__label {background-color: #d4ebff;}#sk-container-id-1 div.sk-label input.sk-toggleable__control:checked~label.sk-toggleable__label {background-color: #d4ebff;}#sk-container-id-1 input.sk-hidden--visually {border: 0;clip: rect(1px 1px 1px 1px);clip: rect(1px, 1px, 1px, 1px);height: 1px;margin: -1px;overflow: hidden;padding: 0;position: absolute;width: 1px;}#sk-container-id-1 div.sk-estimator {font-family: monospace;background-color: #f0f8ff;border: 1px dotted black;border-radius: 0.25em;box-sizing: border-box;margin-bottom: 0.5em;}#sk-container-id-1 div.sk-estimator:hover {background-color: #d4ebff;}#sk-container-id-1 div.sk-parallel-item::after {content: \"\";width: 100%;border-bottom: 1px solid gray;flex-grow: 1;}#sk-container-id-1 div.sk-label:hover label.sk-toggleable__label {background-color: #d4ebff;}#sk-container-id-1 div.sk-serial::before {content: \"\";position: absolute;border-left: 1px solid gray;box-sizing: border-box;top: 0;bottom: 0;left: 50%;z-index: 0;}#sk-container-id-1 div.sk-serial {display: flex;flex-direction: column;align-items: center;background-color: white;padding-right: 0.2em;padding-left: 0.2em;position: relative;}#sk-container-id-1 div.sk-item {position: relative;z-index: 1;}#sk-container-id-1 div.sk-parallel {display: flex;align-items: stretch;justify-content: center;background-color: white;position: relative;}#sk-container-id-1 div.sk-item::before, #sk-container-id-1 div.sk-parallel-item::before {content: \"\";position: absolute;border-left: 1px solid gray;box-sizing: border-box;top: 0;bottom: 0;left: 50%;z-index: -1;}#sk-container-id-1 div.sk-parallel-item {display: flex;flex-direction: column;z-index: 1;position: relative;background-color: white;}#sk-container-id-1 div.sk-parallel-item:first-child::after {align-self: flex-end;width: 50%;}#sk-container-id-1 div.sk-parallel-item:last-child::after {align-self: flex-start;width: 50%;}#sk-container-id-1 div.sk-parallel-item:only-child::after {width: 0;}#sk-container-id-1 div.sk-dashed-wrapped {border: 1px dashed gray;margin: 0 0.4em 0.5em 0.4em;box-sizing: border-box;padding-bottom: 0.4em;background-color: white;}#sk-container-id-1 div.sk-label label {font-family: monospace;font-weight: bold;display: inline-block;line-height: 1.2em;}#sk-container-id-1 div.sk-label-container {text-align: center;}#sk-container-id-1 div.sk-container {/* jupyter's `normalize.less` sets `[hidden] { display: none; }` but bootstrap.min.css set `[hidden] { display: none !important; }` so we also need the `!important` here to be able to override the default hidden behavior on the sphinx rendered scikit-learn.org. See: https://github.com/scikit-learn/scikit-learn/issues/21755 */display: inline-block !important;position: relative;}#sk-container-id-1 div.sk-text-repr-fallback {display: none;}</style><div id=\"sk-container-id-1\" class=\"sk-top-container\"><div class=\"sk-text-repr-fallback\"><pre>LinearRegression()</pre><b>In a Jupyter environment, please rerun this cell to show the HTML representation or trust the notebook. <br />On GitHub, the HTML representation is unable to render, please try loading this page with nbviewer.org.</b></div><div class=\"sk-container\" hidden><div class=\"sk-item\"><div class=\"sk-estimator sk-toggleable\"><input class=\"sk-toggleable__control sk-hidden--visually\" id=\"sk-estimator-id-1\" type=\"checkbox\" checked><label for=\"sk-estimator-id-1\" class=\"sk-toggleable__label sk-toggleable__label-arrow\">LinearRegression</label><div class=\"sk-toggleable__content\"><pre>LinearRegression()</pre></div></div></div></div></div>"
            ]
          },
          "metadata": {},
          "execution_count": 29
        }
      ]
    },
    {
      "cell_type": "code",
      "source": [
        "r_sq = model.score(X_train, y_train)\n",
        "print(f\"coefficient of determination: {r_sq}\")"
      ],
      "metadata": {
        "colab": {
          "base_uri": "https://localhost:8080/"
        },
        "id": "Eai5N0qP22tn",
        "outputId": "b65e4455-3bad-4f55-cabd-18bcea47e42c"
      },
      "execution_count": null,
      "outputs": [
        {
          "output_type": "stream",
          "name": "stdout",
          "text": [
            "coefficient of determination: 0.8144315821672923\n"
          ]
        }
      ]
    },
    {
      "cell_type": "code",
      "source": [
        "y_preds = model.predict(X_test)"
      ],
      "metadata": {
        "id": "0Dov1jAb2_BI"
      },
      "execution_count": null,
      "outputs": []
    },
    {
      "cell_type": "code",
      "source": [
        "print(f\"predicted response:\\n{y_preds}\")"
      ],
      "metadata": {
        "colab": {
          "base_uri": "https://localhost:8080/"
        },
        "id": "n_tUaVnb3Hkd",
        "outputId": "3ea2843d-b00c-4d69-fa9b-6bf387d13fb5"
      },
      "execution_count": null,
      "outputs": [
        {
          "output_type": "stream",
          "name": "stdout",
          "text": [
            "predicted response:\n",
            "[  9580.91369278   9961.10686181 -17477.94049787 ...  10565.71896812\n",
            " -22434.31592802 -20003.94594527]\n"
          ]
        }
      ]
    },
    {
      "cell_type": "code",
      "source": [
        "y_test.iloc[-1]"
      ],
      "metadata": {
        "colab": {
          "base_uri": "https://localhost:8080/"
        },
        "id": "4GnG_5Sx3NDR",
        "outputId": "607da18d-1669-4139-9bfd-55ec0fc5b28e"
      },
      "execution_count": null,
      "outputs": [
        {
          "output_type": "execute_result",
          "data": {
            "text/plain": [
              "-16624.63"
            ]
          },
          "metadata": {},
          "execution_count": 33
        }
      ]
    },
    {
      "cell_type": "code",
      "source": [
        "import pickle"
      ],
      "metadata": {
        "id": "EWhiQIPR3jy_"
      },
      "execution_count": null,
      "outputs": []
    },
    {
      "cell_type": "code",
      "source": [
        "df.columns"
      ],
      "metadata": {
        "colab": {
          "base_uri": "https://localhost:8080/"
        },
        "id": "jjFaDjJW3yHs",
        "outputId": "cceae669-3fd8-4516-ba7e-f9924c092874"
      },
      "execution_count": null,
      "outputs": [
        {
          "output_type": "execute_result",
          "data": {
            "text/plain": [
              "Index(['RealEnergyWH', 'ApparentEnergyVAH', 'ReactiveEnergyVARHP',\n",
              "       'ReactiveEnergyVARHN', 'LineVoltageVRY', 'LineVoltageVYB',\n",
              "       'LineVoltageVBR', 'LineCurrentIR', 'LineCurrentIY', 'LineCurrentIB',\n",
              "       'RealPower', 'ReactivePower', 'ApparentPower', 'PhaseVoltageVRN',\n",
              "       'PhaseVoltageVYN', 'PhaseVoltageVBN', 'PowerFactor', 'Frequency',\n",
              "       'RealPowerR', 'RealPowerY', 'RealPowerB', 'ApparentPowerR',\n",
              "       'ApparentPowerY', 'ApparentPowerB', 'Year', 'Month', 'Day', 'Hour',\n",
              "       'Mins'],\n",
              "      dtype='object')"
            ]
          },
          "metadata": {},
          "execution_count": 35
        }
      ]
    },
    {
      "cell_type": "code",
      "source": [
        "filename = 'finalized_model_SJT_tower_ReactivePower.sav'\n",
        "pickle.dump(model, open(filename, 'wb'))"
      ],
      "metadata": {
        "id": "O_j8QVvy3zUS"
      },
      "execution_count": null,
      "outputs": []
    },
    {
      "cell_type": "code",
      "source": [
        "import numpy as np\n",
        "import pandas as pd\n",
        "import seaborn as sns\n",
        "import matplotlib.pyplot as plt\n",
        "%matplotlib inline"
      ],
      "metadata": {
        "id": "bz1mc96L4Q2Q"
      },
      "execution_count": null,
      "outputs": []
    },
    {
      "cell_type": "code",
      "source": [
        "import pickle"
      ],
      "metadata": {
        "id": "U4Kmz9krbYjg"
      },
      "execution_count": null,
      "outputs": []
    },
    {
      "cell_type": "code",
      "source": [
        "loaded_model = pickle.load(open(\"/content/finalized_model_SJT_tower.sav\", 'rb'))"
      ],
      "metadata": {
        "id": "499DdpGfbz93"
      },
      "execution_count": null,
      "outputs": []
    }
  ]
}